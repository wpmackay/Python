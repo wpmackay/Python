{
 "cells": [
  {
   "cell_type": "code",
   "execution_count": 1,
   "metadata": {
    "collapsed": false
   },
   "outputs": [
    {
     "name": "stdout",
     "output_type": "stream",
     "text": [
      "Populating the interactive namespace from numpy and matplotlib\n"
     ]
    }
   ],
   "source": [
    "%pylab inline"
   ]
  },
  {
   "cell_type": "code",
   "execution_count": 2,
   "metadata": {
    "collapsed": true
   },
   "outputs": [],
   "source": [
    "#Meshgrid\n",
    "    #Useful when dealing with functions of 2 variables f(x,y).\n",
    "    #Suppose that one wanted to compute f(x,y) for all (x,y) in some grid in the x-y plane.\n",
    "    #Result should be 2-D array with an element f(x,y) for each point (x,y),\n",
    "    #Don't want to use loops, slower than vectorization.\n",
    "\n",
    "def distance(x,y):\n",
    "    return sqrt(x**2+y**2)"
   ]
  },
  {
   "cell_type": "code",
   "execution_count": 3,
   "metadata": {
    "collapsed": false
   },
   "outputs": [
    {
     "data": {
      "text/plain": [
       "3.6055512754639891"
      ]
     },
     "execution_count": 3,
     "metadata": {},
     "output_type": "execute_result"
    }
   ],
   "source": [
    "distance(3,2)"
   ]
  },
  {
   "cell_type": "code",
   "execution_count": 4,
   "metadata": {
    "collapsed": false
   },
   "outputs": [
    {
     "name": "stdout",
     "output_type": "stream",
     "text": [
      "[0 1 2 3]\n",
      "[0 1 2]\n",
      "[[0 1 2 3]\n",
      " [0 1 2 3]\n",
      " [0 1 2 3]]\n",
      "[[0 0 0 0]\n",
      " [1 1 1 1]\n",
      " [2 2 2 2]]\n"
     ]
    }
   ],
   "source": [
    "#Function takes 2 inputs and gives 1 output, need 2-D array output, give two 2-D array inputs\n",
    "    #Meshgrid takes 2 1-D arrays , returns 2 2-D arrays x=x coordinates in x-y plane, y=y coordinates in x-y plane\n",
    "x=arange(4)\n",
    "y=arange(3)\n",
    "print x\n",
    "print y\n",
    "X,Y=meshgrid(x,y)\n",
    "print X\n",
    "print Y"
   ]
  },
  {
   "cell_type": "code",
   "execution_count": 5,
   "metadata": {
    "collapsed": false
   },
   "outputs": [
    {
     "data": {
      "text/plain": [
       "array([[ 0.        ,  1.        ,  2.        ,  3.        ],\n",
       "       [ 1.        ,  1.41421356,  2.23606798,  3.16227766],\n",
       "       [ 2.        ,  2.23606798,  2.82842712,  3.60555128]])"
      ]
     },
     "execution_count": 5,
     "metadata": {},
     "output_type": "execute_result"
    }
   ],
   "source": [
    "distance(X,Y)"
   ]
  },
  {
   "cell_type": "code",
   "execution_count": 10,
   "metadata": {
    "collapsed": false
   },
   "outputs": [
    {
     "name": "stdout",
     "output_type": "stream",
     "text": [
      "[[-1.  -0.5  0.   0.5  1. ]\n",
      " [-1.  -0.5  0.   0.5  1. ]\n",
      " [-1.  -0.5  0.   0.5  1. ]\n",
      " [-1.  -0.5  0.   0.5  1. ]\n",
      " [-1.  -0.5  0.   0.5  1. ]]\n",
      "[[ 0.-1.j   0.-1.j   0.-1.j   0.-1.j   0.-1.j ]\n",
      " [ 0.-0.5j  0.-0.5j  0.-0.5j  0.-0.5j  0.-0.5j]\n",
      " [ 0.+0.j   0.+0.j   0.+0.j   0.+0.j   0.+0.j ]\n",
      " [ 0.+0.5j  0.+0.5j  0.+0.5j  0.+0.5j  0.+0.5j]\n",
      " [ 0.+1.j   0.+1.j   0.+1.j   0.+1.j   0.+1.j ]]\n",
      "[[-1.0-1.j  -0.5-1.j   0.0-1.j   0.5-1.j   1.0-1.j ]\n",
      " [-1.0-0.5j -0.5-0.5j  0.0-0.5j  0.5-0.5j  1.0-0.5j]\n",
      " [-1.0+0.j  -0.5+0.j   0.0+0.j   0.5+0.j   1.0+0.j ]\n",
      " [-1.0+0.5j -0.5+0.5j  0.0+0.5j  0.5+0.5j  1.0+0.5j]\n",
      " [-1.0+1.j  -0.5+1.j   0.0+1.j   0.5+1.j   1.0+1.j ]]\n"
     ]
    }
   ],
   "source": [
    "#Can use meshgrid to work with the complex plane instead of x-y\n",
    "real=linspace(-1,1,5)\n",
    "imag=linspace(-1j,1j,5)\n",
    "X,Y=meshgrid(real, imag)\n",
    "print X\n",
    "print Y\n",
    "Z=X+Y\n",
    "print Z"
   ]
  },
  {
   "cell_type": "code",
   "execution_count": 26,
   "metadata": {
    "collapsed": false
   },
   "outputs": [
    {
     "name": "stdout",
     "output_type": "stream",
     "text": [
      "[[-1.0+0.j        -1.0+0.j        -1.0+0.j        ...,  0.5-0.8660254j\n",
      "   0.5-0.8660254j  0.5-0.8660254j]\n",
      " [-1.0+0.j        -1.0+0.j        -1.0+0.j        ...,  0.5-0.8660254j\n",
      "   0.5-0.8660254j  0.5-0.8660254j]\n",
      " [-1.0+0.j        -1.0+0.j        -1.0+0.j        ...,  0.5-0.8660254j\n",
      "   0.5-0.8660254j  0.5-0.8660254j]\n",
      " ..., \n",
      " [-1.0+0.j        -1.0+0.j        -1.0+0.j        ...,  0.5+0.8660254j\n",
      "   0.5+0.8660254j  0.5+0.8660254j]\n",
      " [-1.0+0.j        -1.0+0.j        -1.0+0.j        ...,  0.5+0.8660254j\n",
      "   0.5+0.8660254j  0.5+0.8660254j]\n",
      " [-1.0+0.j        -1.0+0.j        -1.0+0.j        ...,  0.5+0.8660254j\n",
      "   0.5+0.8660254j  0.5+0.8660254j]]\n"
     ]
    }
   ],
   "source": [
    "#For report 7-\n",
    "    #Set a grid size\n",
    "    #Create a 2-D array of imaginary numbers\n",
    "    #Apply Newton's method repeatedly to Z until points have converged to 1 of 3 roots\n",
    "    #Repeat for n_iters iterations.\n",
    "n_points=100    \n",
    "real=linspace(-1,1,n_points)\n",
    "imag=linspace(-1j,1j,n_points)\n",
    "X,Y=meshgrid(real, imag)\n",
    "Z=X+Y\n",
    "\n",
    "n_iters=20\n",
    "for i in range(n_iters):\n",
    "    Z-=(Z**3+1)/(3*Z**2)\n",
    "    \n",
    "r1=complex(1,0)\n",
    "r2=complex(-0.5,sqrt(3)/2.)\n",
    "r3=complex(-0.5,-sqrt(3)/2.)\n",
    "print Z\n",
    "tol=1e-6\n",
    "reds=abs(Z-r1)<tol\n",
    "greens=abs(Z-r2)<tol\n",
    "blues=abs(Z-r3)<tol\n"
   ]
  },
  {
   "cell_type": "code",
   "execution_count": 23,
   "metadata": {
    "collapsed": false
   },
   "outputs": [
    {
     "data": {
      "text/plain": [
       "<matplotlib.image.AxesImage at 0xc4d04d0>"
      ]
     },
     "execution_count": 23,
     "metadata": {},
     "output_type": "execute_result"
    },
    {
     "data": {
      "image/png": "[encoded data removed]",
      "text/plain": [
       "<matplotlib.figure.Figure at 0x550c230>"
      ]
     },
     "metadata": {},
     "output_type": "display_data"
    }
   ],
   "source": [
    "img=zeros([n_points,n_points,3])\n",
    "img[:,:,0]=reds\n",
    "img[:,:,1]=greens\n",
    "img[:,:,2]=blues\n",
    "imshow(img)"
   ]
  },
  {
   "cell_type": "code",
   "execution_count": null,
   "metadata": {
    "collapsed": true
   },
   "outputs": [],
   "source": []
  }
 ],
 "metadata": {
  "kernelspec": {
   "display_name": "Python 2",
   "language": "python",
   "name": "python2"
  },
  "language_info": {
   "codemirror_mode": {
    "name": "ipython",
    "version": 2
   },
   "file_extension": ".py",
   "mimetype": "text/x-python",
   "name": "python",
   "nbconvert_exporter": "python",
   "pygments_lexer": "ipython2",
   "version": "2.7.10"
  }
 },
 "nbformat": 4,
 "nbformat_minor": 0
}
