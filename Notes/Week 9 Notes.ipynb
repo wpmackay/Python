{
 "cells": [
  {
   "cell_type": "code",
   "execution_count": 12,
   "metadata": {
    "collapsed": false
   },
   "outputs": [
    {
     "name": "stdout",
     "output_type": "stream",
     "text": [
      "Populating the interactive namespace from numpy and matplotlib\n"
     ]
    }
   ],
   "source": [
    "%pylab inline"
   ]
  },
  {
   "cell_type": "code",
   "execution_count": 2,
   "metadata": {
    "collapsed": true
   },
   "outputs": [],
   "source": [
    "#Meshgrid\n",
    "    #Useful when dealing with functions of 2 variables f(x,y).\n",
    "    #Suppose that one wanted to compute f(x,y) for all (x,y) in some grid in the x-y plane.\n",
    "    #Result should be 2-D array with an element f(x,y) for each point (x,y),\n",
    "    #Don't want to use loops, slower than vectorization.\n",
    "\n",
    "def distance(x,y):\n",
    "    return sqrt(x**2+y**2)"
   ]
  },
  {
   "cell_type": "code",
   "execution_count": 3,
   "metadata": {
    "collapsed": false
   },
   "outputs": [
    {
     "data": {
      "text/plain": [
       "3.6055512754639891"
      ]
     },
     "execution_count": 3,
     "metadata": {},
     "output_type": "execute_result"
    }
   ],
   "source": [
    "distance(3,2)"
   ]
  },
  {
   "cell_type": "code",
   "execution_count": 4,
   "metadata": {
    "collapsed": false
   },
   "outputs": [
    {
     "name": "stdout",
     "output_type": "stream",
     "text": [
      "[0 1 2 3]\n",
      "[0 1 2]\n",
      "[[0 1 2 3]\n",
      " [0 1 2 3]\n",
      " [0 1 2 3]]\n",
      "[[0 0 0 0]\n",
      " [1 1 1 1]\n",
      " [2 2 2 2]]\n"
     ]
    }
   ],
   "source": [
    "#Function takes 2 inputs and gives 1 output, need 2-D array output, give two 2-D array inputs\n",
    "    #Meshgrid takes 2 1-D arrays , returns 2 2-D arrays x=x coordinates in x-y plane, y=y coordinates in x-y plane\n",
    "x=arange(4)\n",
    "y=arange(3)\n",
    "print x\n",
    "print y\n",
    "X,Y=meshgrid(x,y)\n",
    "print X\n",
    "print Y"
   ]
  },
  {
   "cell_type": "code",
   "execution_count": 5,
   "metadata": {
    "collapsed": false
   },
   "outputs": [
    {
     "data": {
      "text/plain": [
       "array([[ 0.        ,  1.        ,  2.        ,  3.        ],\n",
       "       [ 1.        ,  1.41421356,  2.23606798,  3.16227766],\n",
       "       [ 2.        ,  2.23606798,  2.82842712,  3.60555128]])"
      ]
     },
     "execution_count": 5,
     "metadata": {},
     "output_type": "execute_result"
    }
   ],
   "source": [
    "distance(X,Y)"
   ]
  },
  {
   "cell_type": "code",
   "execution_count": 10,
   "metadata": {
    "collapsed": false
   },
   "outputs": [
    {
     "name": "stdout",
     "output_type": "stream",
     "text": [
      "[[-1.  -0.5  0.   0.5  1. ]\n",
      " [-1.  -0.5  0.   0.5  1. ]\n",
      " [-1.  -0.5  0.   0.5  1. ]\n",
      " [-1.  -0.5  0.   0.5  1. ]\n",
      " [-1.  -0.5  0.   0.5  1. ]]\n",
      "[[ 0.-1.j   0.-1.j   0.-1.j   0.-1.j   0.-1.j ]\n",
      " [ 0.-0.5j  0.-0.5j  0.-0.5j  0.-0.5j  0.-0.5j]\n",
      " [ 0.+0.j   0.+0.j   0.+0.j   0.+0.j   0.+0.j ]\n",
      " [ 0.+0.5j  0.+0.5j  0.+0.5j  0.+0.5j  0.+0.5j]\n",
      " [ 0.+1.j   0.+1.j   0.+1.j   0.+1.j   0.+1.j ]]\n",
      "[[-1.0-1.j  -0.5-1.j   0.0-1.j   0.5-1.j   1.0-1.j ]\n",
      " [-1.0-0.5j -0.5-0.5j  0.0-0.5j  0.5-0.5j  1.0-0.5j]\n",
      " [-1.0+0.j  -0.5+0.j   0.0+0.j   0.5+0.j   1.0+0.j ]\n",
      " [-1.0+0.5j -0.5+0.5j  0.0+0.5j  0.5+0.5j  1.0+0.5j]\n",
      " [-1.0+1.j  -0.5+1.j   0.0+1.j   0.5+1.j   1.0+1.j ]]\n"
     ]
    }
   ],
   "source": [
    "#Can use meshgrid to work with the complex plane instead of x-y\n",
    "real=linspace(-1,1,5)\n",
    "imag=linspace(-1j,1j,5)\n",
    "X,Y=meshgrid(real, imag)\n",
    "print X\n",
    "print Y\n",
    "Z=X+Y\n",
    "print Z"
   ]
  },
  {
   "cell_type": "code",
   "execution_count": 56,
   "metadata": {
    "collapsed": false
   },
   "outputs": [
    {
     "data": {
      "text/plain": [
       "<matplotlib.image.AxesImage at 0x199285b0>"
      ]
     },
     "execution_count": 56,
     "metadata": {},
     "output_type": "execute_result"
    },
    {
     "data": {
      "image/png": "[encoded data removed]",
      "text/plain": [
       "<matplotlib.figure.Figure at 0x29dbaf70>"
      ]
     },
     "metadata": {},
     "output_type": "display_data"
    }
   ],
   "source": [
    "#For report 7-\n",
    "    #Set a grid size\n",
    "    #Create a 2-D array of imaginary numbers\n",
    "    #Apply Newton's method repeatedly to Z until points have converged to 1 of 3 roots\n",
    "    #Repeat for n_iters iterations.\n",
    "npts = 1000\n",
    "x = linspace(-1, 1, npts)\n",
    "y = linspace(-1j, 1j, npts)\n",
    "X, Y = meshgrid(x, y)\n",
    "Z = X + Y\n",
    "\n",
    "r1 = complex(1, 0)\n",
    "r2 = complex(-.5, sqrt(3)/2.)\n",
    "r3 = complex(-.5, -sqrt(3)/2.)\n",
    "tol = 1e-6\n",
    "\n",
    "niters = 20\n",
    "for i in xrange(niters):\n",
    "    Z -= (Z**3 - 1)/(3*Z**2)\n",
    "    for j in xrange(npts):\n",
    "        for k in xrange(npts):\n",
    "            if abs(Z - r1) > tol and abs(Z - r2) > tol and abs(Z - r3) > tol\n",
    "\n",
    "reds = abs(Z - r1) < tol\n",
    "greens = abs(Z - r2) < tol\n",
    "blues = abs(Z - r3) < tol\n",
    "img = zeros((npts, npts, 3))\n",
    "img[:,:,0] = reds\n",
    "img[:,:,1] = greens\n",
    "img[:,:,2] = blues\n",
    "imshow(img[::-1])\n"
   ]
  },
  {
   "cell_type": "code",
   "execution_count": null,
   "metadata": {
    "collapsed": false
   },
   "outputs": [],
   "source": [
    "#Random Numbers:\n",
    "    #How to find f(x) if f(x) is not known but f(x) is known for every x?\n",
    "    #Find mean of f over large number of x values in uniform grid? No, can cause aliasing.\n",
    "    #What do we want from random numbers?\n",
    "        #Independent, not uniformly spaced, should have an average equal to the average ov the values of the interval,\n",
    "        #uniformly distributed.\n",
    "    #Computers are deterministic. Can only generate pseudo-random numbers.\n"
   ]
  },
  {
   "cell_type": "code",
   "execution_count": 28,
   "metadata": {
    "collapsed": false
   },
   "outputs": [
    {
     "data": {
      "text/plain": [
       "(array([ 914.,  403.,  311.,  238.,  228.,  180.,  209.,  195.,  161.,\n",
       "         177.,  158.,  151.,  142.,  143.,  132.,  140.,  132.,  118.,\n",
       "         126.,  130.,  119.,  130.,  136.,  122.,  141.,  125.,  149.,\n",
       "         124.,  120.,  119.,  146.,  140.,  121.,  141.,  132.,  146.,\n",
       "         130.,  137.,  148.,  144.,  176.,  155.,  188.,  175.,  210.,\n",
       "         202.,  246.,  304.,  352.,  934.]),\n",
       " array([  5.42910909e-08,   2.00000529e-02,   4.00000516e-02,\n",
       "          6.00000502e-02,   8.00000489e-02,   1.00000048e-01,\n",
       "          1.20000046e-01,   1.40000045e-01,   1.60000043e-01,\n",
       "          1.80000042e-01,   2.00000041e-01,   2.20000039e-01,\n",
       "          2.40000038e-01,   2.60000037e-01,   2.80000035e-01,\n",
       "          3.00000034e-01,   3.20000033e-01,   3.40000031e-01,\n",
       "          3.60000030e-01,   3.80000029e-01,   4.00000027e-01,\n",
       "          4.20000026e-01,   4.40000024e-01,   4.60000023e-01,\n",
       "          4.80000022e-01,   5.00000020e-01,   5.20000019e-01,\n",
       "          5.40000018e-01,   5.60000016e-01,   5.80000015e-01,\n",
       "          6.00000014e-01,   6.20000012e-01,   6.40000011e-01,\n",
       "          6.60000010e-01,   6.80000008e-01,   7.00000007e-01,\n",
       "          7.20000005e-01,   7.40000004e-01,   7.60000003e-01,\n",
       "          7.80000001e-01,   8.00000000e-01,   8.19999999e-01,\n",
       "          8.39999997e-01,   8.59999996e-01,   8.79999995e-01,\n",
       "          8.99999993e-01,   9.19999992e-01,   9.39999990e-01,\n",
       "          9.59999989e-01,   9.79999988e-01,   9.99999986e-01]),\n",
       " <a list of 50 Patch objects>)"
      ]
     },
     "execution_count": 28,
     "metadata": {},
     "output_type": "execute_result"
    },
    {
     "data": {
      "image/png": "[encoded data removed]",
      "text/plain": [
       "<matplotlib.figure.Figure at 0xc502810>"
      ]
     },
     "metadata": {},
     "output_type": "display_data"
    }
   ],
   "source": [
    "t_max=10000\n",
    "b=4.0\n",
    "x=empty(t_max)\n",
    "x[0]=0.4\n",
    "for i in xrange(1,t_max):\n",
    "    x[i]=b*(1-x[i-1])*x[i-1]\n",
    "hist(x,50)"
   ]
  },
  {
   "cell_type": "code",
   "execution_count": 52,
   "metadata": {
    "collapsed": false
   },
   "outputs": [],
   "source": [
    "#Linear Congruential Generator\n",
    "    #Pick a multiplier and a modulus m, both large integers.\n",
    "    #Pick stargin integer between 0 and m (exclusive)\n",
    "    #Generate sequence xn of real numbers by k <- a*k mod(m), xk=k/m\n",
    "\n",
    "def RNGsus(k, a=427419669081, m=999999999989):\n",
    "    k=a*k%m\n",
    "    xk=k/m\n",
    "    return xk"
   ]
  },
  {
   "cell_type": "code",
   "execution_count": 53,
   "metadata": {
    "collapsed": false
   },
   "outputs": [],
   "source": [
    "k=linspace(1,999999999988,10000)\n",
    "x=RNGsus(k)"
   ]
  },
  {
   "cell_type": "code",
   "execution_count": 54,
   "metadata": {
    "collapsed": false
   },
   "outputs": [
    {
     "data": {
      "text/plain": [
       "(array([ 501.,  500.,  500.,  499.,  500.,  499.,  501.,  499.,  501.,\n",
       "         500.,  500.,  501.,  499.,  501.,  499.,  500.,  499.,  500.,\n",
       "         500.,  501.]),\n",
       " array([  8.95530800e-06,   5.00060994e-02,   1.00003243e-01,\n",
       "          1.50000387e-01,   1.99997531e-01,   2.49994676e-01,\n",
       "          2.99991820e-01,   3.49988964e-01,   3.99986108e-01,\n",
       "          4.49983252e-01,   4.99980396e-01,   5.49977540e-01,\n",
       "          5.99974684e-01,   6.49971828e-01,   6.99968972e-01,\n",
       "          7.49966116e-01,   7.99963260e-01,   8.49960404e-01,\n",
       "          8.99957548e-01,   9.49954692e-01,   9.99951836e-01]),\n",
       " <a list of 20 Patch objects>)"
      ]
     },
     "execution_count": 54,
     "metadata": {},
     "output_type": "execute_result"
    },
    {
     "data": {
      "image/png": "[encoded data removed]",
      "text/plain": [
       "<matplotlib.figure.Figure at 0x1a65a830>"
      ]
     },
     "metadata": {},
     "output_type": "display_data"
    }
   ],
   "source": [
    "hist(x,20)"
   ]
  },
  {
   "cell_type": "code",
   "execution_count": 55,
   "metadata": {
    "collapsed": false
   },
   "outputs": [
    {
     "data": {
      "text/plain": [
       "[<matplotlib.lines.Line2D at 0x162cb750>]"
      ]
     },
     "execution_count": 55,
     "metadata": {},
     "output_type": "execute_result"
    },
    {
     "data": {
      "image/png": "[encoded data removed]",
      "text/plain": [
       "<matplotlib.figure.Figure at 0x1b629b50>"
      ]
     },
     "metadata": {},
     "output_type": "display_data"
    }
   ],
   "source": [
    "plot(k,x,ms=1)"
   ]
  },
  {
   "cell_type": "code",
   "execution_count": null,
   "metadata": {
    "collapsed": false
   },
   "outputs": [],
   "source": []
  },
  {
   "cell_type": "code",
   "execution_count": null,
   "metadata": {
    "collapsed": true
   },
   "outputs": [],
   "source": []
  }
 ],
 "metadata": {
  "kernelspec": {
   "display_name": "Python 2",
   "language": "python",
   "name": "python2"
  },
  "language_info": {
   "codemirror_mode": {
    "name": "ipython",
    "version": 2
   },
   "file_extension": ".py",
   "mimetype": "text/x-python",
   "name": "python",
   "nbconvert_exporter": "python",
   "pygments_lexer": "ipython2",
   "version": "2.7.10"
  }
 },
 "nbformat": 4,
 "nbformat_minor": 0
}
