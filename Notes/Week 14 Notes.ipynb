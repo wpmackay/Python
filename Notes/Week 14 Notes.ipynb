{
 "cells": [
  {
   "cell_type": "code",
   "execution_count": 2,
   "metadata": {
    "collapsed": false
   },
   "outputs": [
    {
     "name": "stdout",
     "output_type": "stream",
     "text": [
      "Populating the interactive namespace from numpy and matplotlib\n"
     ]
    }
   ],
   "source": [
    "%pylab inline\n",
    "from scipy.optimize import linprog"
   ]
  },
  {
   "cell_type": "code",
   "execution_count": 9,
   "metadata": {
    "collapsed": true
   },
   "outputs": [],
   "source": [
    "c = array([-2, -1])\n",
    "A_ub = array([[3, 1], [400, 400]])\n",
    "b_ub = array([6, 1600])"
   ]
  },
  {
   "cell_type": "code",
   "execution_count": 10,
   "metadata": {
    "collapsed": false
   },
   "outputs": [
    {
     "name": "stdout",
     "output_type": "stream",
     "text": [
      "  status: 0\n",
      "   slack: array([ 0.,  0.])\n",
      " success: True\n",
      "     fun: -5.0\n",
      "       x: array([ 1.,  3.])\n",
      " message: 'Optimization terminated successfully.'\n",
      "     nit: 2\n"
     ]
    }
   ],
   "source": [
    "results = linprog(c, A_ub=A_ub, b_ub=b_ub)\n",
    "print results"
   ]
  },
  {
   "cell_type": "code",
   "execution_count": 15,
   "metadata": {
    "collapsed": false
   },
   "outputs": [],
   "source": [
    "A_eq=zeros((14,22))\n",
    "b_eq=zeros((14,1))\n",
    "\n",
    "#Barrow Node\n",
    "A_eq[[0],[0]]=1\n",
    "A_eq[[0],[3]]=-1\n",
    "\n",
    "#Wainright Node\n",
    "A_eq[[1],[3]]=1\n",
    "A_eq[[1],[4]]=-1\n",
    "\n",
    "#Point Hope Node\n",
    "A_eq[[2],[4]]=1\n",
    "A_eq[[2],[5]]=-1\n",
    "\n",
    "#Koetzbue Node\n",
    "A_eq[[3],[5]]=1\n",
    "A_eq[[3,3],[6,7]]=-1\n",
    "\n",
    "#Unalakleet Node\n",
    "A_eq[[4],[6]]=1\n",
    "A_eq[[4],[8]]=-1\n",
    "\n",
    "#Galena Node\n",
    "A_eq[[5,5],[7,9]]=1\n",
    "A_eq[[5],[10]]=-1\n",
    "\n",
    "#Anchorage Node\n",
    "A_eq[[6,6,6],[8,11,12]]=1\n",
    "A_eq[[6],[13]]=-1\n",
    "\n",
    "#Wiseman Node\n",
    "A_eq[[7],[1]]=1\n",
    "A_eq[[7,7],[14,15]]=-1\n",
    "\n",
    "#Hughs Node\n",
    "A_eq[[8],[14]]=1\n",
    "A_eq[[8,8],[9,16]]=-1\n",
    "\n",
    "#Livengood Node\n",
    "A_eq[[9],[15]]=1\n",
    "A_eq[[9,9],[12,17]]=-1\n",
    "\n",
    "#Fairbanks Node\n",
    "A_eq[[10],[17]]=1\n",
    "A_eq[[10,10],[18,19]]=-1\n",
    "\n",
    "#Delta Junction Node\n",
    "A_eq[[11,11],[2,18]]=1\n",
    "A_eq[[11],[20]]=-1\n",
    "\n",
    "#Valdez Node\n",
    "A_eq[[12],[20]]=1\n",
    "A_eq[[12],[21]]=-1\n",
    "\n",
    "#McGrath Node\n",
    "A_eq[[13,13],[10,16]]=1\n",
    "A_eq[[13],[11]]=-1"
   ]
  },
  {
   "cell_type": "code",
   "execution_count": 25,
   "metadata": {
    "collapsed": false
   },
   "outputs": [],
   "source": [
    "max_flow=array([4,12,6,8,8,7,5,4,3,4,5,7,3,9,7,5,3,3,2,5,9,8])\n",
    "bounds=column_stack((zeros(22),max_flow))"
   ]
  },
  {
   "cell_type": "code",
   "execution_count": 26,
   "metadata": {
    "collapsed": false
   },
   "outputs": [],
   "source": [
    "c=zeros((22))\n",
    "c[[21,19,13]]=-1"
   ]
  },
  {
   "cell_type": "code",
   "execution_count": 29,
   "metadata": {
    "collapsed": false,
    "scrolled": true
   },
   "outputs": [
    {
     "name": "stdout",
     "output_type": "stream",
     "text": [
      "[ 4.  8.  6.  4.  4.  4.  3.  1.  3.  4.  5.  5.  1.  9.  4.  4.  0.  3.\n",
      "  0.  3.  6.  6.]\n",
      "-18.0\n"
     ]
    }
   ],
   "source": [
    "results = linprog(c, A_eq=A_eq, b_eq=b_eq, bounds=bounds)\n",
    "print results.x\n",
    "print results.fun"
   ]
  },
  {
   "cell_type": "code",
   "execution_count": 33,
   "metadata": {
    "collapsed": false
   },
   "outputs": [],
   "source": [
    "f=open(\"hamlet.txt\")"
   ]
  },
  {
   "cell_type": "code",
   "execution_count": 34,
   "metadata": {
    "collapsed": false
   },
   "outputs": [
    {
     "data": {
      "text/plain": [
       "<function read>"
      ]
     },
     "execution_count": 34,
     "metadata": {},
     "output_type": "execute_result"
    }
   ],
   "source": [
    "f.read"
   ]
  },
  {
   "cell_type": "code",
   "execution_count": 35,
   "metadata": {
    "collapsed": false
   },
   "outputs": [
    {
     "data": {
      "text/plain": [
       "<function close>"
      ]
     },
     "execution_count": 35,
     "metadata": {},
     "output_type": "execute_result"
    }
   ],
   "source": [
    "f.close"
   ]
  },
  {
   "cell_type": "code",
   "execution_count": null,
   "metadata": {
    "collapsed": true
   },
   "outputs": [],
   "source": []
  },
  {
   "cell_type": "code",
   "execution_count": null,
   "metadata": {
    "collapsed": false
   },
   "outputs": [],
   "source": []
  },
  {
   "cell_type": "code",
   "execution_count": 2,
   "metadata": {
    "collapsed": true
   },
   "outputs": [],
   "source": []
  },
  {
   "cell_type": "code",
   "execution_count": null,
   "metadata": {
    "collapsed": false
   },
   "outputs": [],
   "source": []
  },
  {
   "cell_type": "code",
   "execution_count": null,
   "metadata": {
    "collapsed": true
   },
   "outputs": [],
   "source": []
  }
 ],
 "metadata": {
  "kernelspec": {
   "display_name": "Python 2",
   "language": "python",
   "name": "python2"
  },
  "language_info": {
   "codemirror_mode": {
    "name": "ipython",
    "version": 2
   },
   "file_extension": ".py",
   "mimetype": "text/x-python",
   "name": "python",
   "nbconvert_exporter": "python",
   "pygments_lexer": "ipython2",
   "version": "2.7.10"
  }
 },
 "nbformat": 4,
 "nbformat_minor": 0
}
