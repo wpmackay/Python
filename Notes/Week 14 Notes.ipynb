{
 "cells": [
  {
   "cell_type": "code",
   "execution_count": 1,
   "metadata": {
    "collapsed": false
   },
   "outputs": [
    {
     "name": "stdout",
     "output_type": "stream",
     "text": [
      "Populating the interactive namespace from numpy and matplotlib\n"
     ]
    }
   ],
   "source": [
    "%pylab inline"
   ]
  },
  {
   "cell_type": "code",
   "execution_count": 9,
   "metadata": {
    "collapsed": false
   },
   "outputs": [],
   "source": [
    "A=matrix('3.0 1.0 0; 400.0 400.0 0;2 1 -1')\n",
    "b=matrix('6.0;1600.0;0')"
   ]
  },
  {
   "cell_type": "code",
   "execution_count": 18,
   "metadata": {
    "collapsed": false
   },
   "outputs": [
    {
     "name": "stdout",
     "output_type": "stream",
     "text": [
      "[[ 1.]\n",
      " [ 3.]\n",
      " [ 5.]]\n"
     ]
    }
   ],
   "source": [
    "x=A.I*b\n",
    "print x"
   ]
  },
  {
   "cell_type": "code",
   "execution_count": 2,
   "metadata": {
    "collapsed": true
   },
   "outputs": [],
   "source": [
    "from scipy.optimize import linprog"
   ]
  },
  {
   "cell_type": "code",
   "execution_count": 3,
   "metadata": {
    "collapsed": true
   },
   "outputs": [],
   "source": [
    "c = array([-2, -1])\n",
    "A_ub = array([[3, 1], [400, 400]])\n",
    "b_ub = array([6, 1600])"
   ]
  },
  {
   "cell_type": "code",
   "execution_count": 4,
   "metadata": {
    "collapsed": false
   },
   "outputs": [
    {
     "name": "stdout",
     "output_type": "stream",
     "text": [
      "  status: 0\n",
      "   slack: array([ 0.,  0.])\n",
      " success: True\n",
      "     fun: -5.0\n",
      "       x: array([ 1.,  3.])\n",
      " message: 'Optimization terminated successfully.'\n",
      "     nit: 2\n"
     ]
    }
   ],
   "source": [
    "results = linprog(c, A_ub=A_ub, b_ub=b_ub)\n",
    "print results"
   ]
  },
  {
   "cell_type": "code",
   "execution_count": 68,
   "metadata": {
    "collapsed": false
   },
   "outputs": [],
   "source": [
    "A_eq=zeros((14,22))\n",
    "b_eq=zeros((14,1))\n",
    "\n",
    "#Barrow Node\n",
    "A_eq[[0],[0]]=1\n",
    "A_eq[[0],[3]]=-1\n",
    "\n",
    "#Wainright Node\n",
    "A_eq[[1],[3]]=1\n",
    "A_eq[[1],[4]]=-1\n",
    "\n",
    "#Point Hope Node\n",
    "A_eq[[2],[4]]=1\n",
    "A_eq[[2],[5]]=-1\n",
    "\n",
    "#Koetzbue Node\n",
    "A_eq[[3],[5]]=1\n",
    "A_eq[[3,3],[6,7]]=-1\n",
    "\n",
    "#Unalakleet Node\n",
    "A_eq[[4],[6]]=1\n",
    "A_eq[[4],[8]]=-1\n",
    "\n",
    "#Galena Node\n",
    "A_eq[[5,5],[5,9]]=1\n",
    "A_eq[[5],[10]]=-1\n",
    "\n",
    "#Anchorage Node\n",
    "A_eq[[6,6,6],[8,11,12]]=1\n",
    "A_eq[[6],[13]]=-1\n",
    "\n",
    "#Wiseman Node\n",
    "A_eq[[7],[1]]=1\n",
    "A_eq[[7,7],[14,15]]=-1\n",
    "\n",
    "#Hughs Node\n",
    "A_eq[[8],[14]]=1\n",
    "A_eq[[8,8],[9,16]]=-1\n",
    "\n",
    "#Livengood Node\n",
    "A_eq[[9],[15]]=1\n",
    "A_eq[[9,9],[12,17]]=-1\n",
    "\n",
    "#Fairbanks Node\n",
    "A_eq[[10],[17]]=1\n",
    "A_eq[[10,10],[18,19]]=-1\n",
    "\n",
    "#Delta Junction Node\n",
    "A_eq[[11,11],[2,18]]=1\n",
    "A_eq[[11],[20]]=-1\n",
    "\n",
    "#Valdez Node\n",
    "A_eq[[12],[20]]=1\n",
    "A_eq[[12],[21]]=-1\n",
    "\n",
    "#McGrath Node\n",
    "A_eq[[13,13],[10,16]]=1\n",
    "A_eq[[13],[11]]=-1"
   ]
  },
  {
   "cell_type": "code",
   "execution_count": 69,
   "metadata": {
    "collapsed": false
   },
   "outputs": [],
   "source": [
    "bounds=array([(0,4),(0,12),(0,6),(0,8),(0,8),(0,7),(0,5),(0,4),(0,3),(0,4),(0,5),(0,7),(0,3),(0,9),(0,7),(0,5),(0,3),(0,3),(0,2),(0,5),(0,9),(0,8)])"
   ]
  },
  {
   "cell_type": "code",
   "execution_count": 72,
   "metadata": {
    "collapsed": false
   },
   "outputs": [],
   "source": [
    "c=zeros((22))\n",
    "c[[21,20,14]]=1"
   ]
  },
  {
   "cell_type": "code",
   "execution_count": 74,
   "metadata": {
    "collapsed": false
   },
   "outputs": [
    {
     "name": "stdout",
     "output_type": "stream",
     "text": [
      "  status: 0\n",
      "   slack: array([  4.,  12.,   6.,   8.,   8.,   7.,   5.,   4.,   3.,   4.,   5.,\n",
      "         7.,   3.,   9.,   7.,   5.,   3.,   3.,   2.,   5.,   9.,   8.])\n",
      " success: True\n",
      "     fun: -0.0\n",
      "       x: array([ 0.,  0.,  0.,  0.,  0.,  0.,  0.,  0.,  0.,  0.,  0.,  0.,  0.,\n",
      "        0.,  0.,  0.,  0.,  0.,  0.,  0.,  0.,  0.])\n",
      " message: 'Optimization terminated successfully.'\n",
      "     nit: 14\n"
     ]
    }
   ],
   "source": [
    "results = linprog(c, A_eq=A_eq, b_eq=b_eq, bounds=bounds)\n",
    "print results"
   ]
  },
  {
   "cell_type": "code",
   "execution_count": null,
   "metadata": {
    "collapsed": false
   },
   "outputs": [],
   "source": []
  },
  {
   "cell_type": "code",
   "execution_count": 67,
   "metadata": {
    "collapsed": false
   },
   "outputs": [
    {
     "data": {
      "text/plain": [
       "(22, 1)"
      ]
     },
     "execution_count": 67,
     "metadata": {},
     "output_type": "execute_result"
    }
   ],
   "source": []
  },
  {
   "cell_type": "code",
   "execution_count": null,
   "metadata": {
    "collapsed": true
   },
   "outputs": [],
   "source": []
  }
 ],
 "metadata": {
  "kernelspec": {
   "display_name": "Python 2",
   "language": "python",
   "name": "python2"
  },
  "language_info": {
   "codemirror_mode": {
    "name": "ipython",
    "version": 2
   },
   "file_extension": ".py",
   "mimetype": "text/x-python",
   "name": "python",
   "nbconvert_exporter": "python",
   "pygments_lexer": "ipython2",
   "version": "2.7.10"
  }
 },
 "nbformat": 4,
 "nbformat_minor": 0
}
