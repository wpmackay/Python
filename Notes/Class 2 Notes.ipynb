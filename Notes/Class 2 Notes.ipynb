{
 "cells": [
  {
   "cell_type": "code",
   "execution_count": 1,
   "metadata": {
    "collapsed": false
   },
   "outputs": [
    {
     "name": "stdout",
     "output_type": "stream",
     "text": [
      "Hello World\n"
     ]
    }
   ],
   "source": [
    "print \"Hello World\""
   ]
  },
  {
   "cell_type": "code",
   "execution_count": 2,
   "metadata": {
    "collapsed": false
   },
   "outputs": [
    {
     "name": "stdout",
     "output_type": "stream",
     "text": [
      "a = 2\n",
      "b = 15\n",
      "c_int = 2\n",
      "c_float = 2.5\n"
     ]
    }
   ],
   "source": [
    "a=1+1\n",
    "print \"a =\",a\n",
    "b=3*5\n",
    "print \"b =\",b\n",
    "#Forgetting to put a decimal point in a division operation will result in integer division.\n",
    "c_int=5/2\n",
    "print \"c_int =\",c_int\n",
    "c_float=5./2\n",
    "print \"c_float =\",c_float\n",
    "\n"
   ]
  },
  {
   "cell_type": "code",
   "execution_count": 3,
   "metadata": {
    "collapsed": false
   },
   "outputs": [],
   "source": [
    "import math"
   ]
  },
  {
   "cell_type": "code",
   "execution_count": 4,
   "metadata": {
    "collapsed": false
   },
   "outputs": [
    {
     "data": {
      "text/plain": [
       "3.141592653589793"
      ]
     },
     "execution_count": 4,
     "metadata": {},
     "output_type": "execute_result"
    }
   ],
   "source": [
    "math.pi"
   ]
  },
  {
   "cell_type": "code",
   "execution_count": 5,
   "metadata": {
    "collapsed": false
   },
   "outputs": [
    {
     "data": {
      "text/plain": [
       "0.8414709848078965"
      ]
     },
     "execution_count": 5,
     "metadata": {},
     "output_type": "execute_result"
    }
   ],
   "source": [
    "math.sin(1)"
   ]
  },
  {
   "cell_type": "code",
   "execution_count": 6,
   "metadata": {
    "collapsed": false
   },
   "outputs": [
    {
     "data": {
      "text/plain": [
       "1.0"
      ]
     },
     "execution_count": 6,
     "metadata": {},
     "output_type": "execute_result"
    }
   ],
   "source": [
    "math.cos(0)"
   ]
  },
  {
   "cell_type": "code",
   "execution_count": 7,
   "metadata": {
    "collapsed": false
   },
   "outputs": [
    {
     "data": {
      "text/plain": [
       "1.0"
      ]
     },
     "execution_count": 7,
     "metadata": {},
     "output_type": "execute_result"
    }
   ],
   "source": [
    "from math import pi\n",
    "from math import sin\n",
    "\n",
    "sin(pi/2)"
   ]
  },
  {
   "cell_type": "code",
   "execution_count": 8,
   "metadata": {
    "collapsed": false
   },
   "outputs": [
    {
     "name": "stdout",
     "output_type": "stream",
     "text": [
      "['__doc__', '__name__', '__package__', 'acos', 'acosh', 'asin', 'asinh', 'atan', 'atan2', 'atanh', 'ceil', 'copysign', 'cos', 'cosh', 'degrees', 'e', 'erf', 'erfc', 'exp', 'expm1', 'fabs', 'factorial', 'floor', 'fmod', 'frexp', 'fsum', 'gamma', 'hypot', 'isinf', 'isnan', 'ldexp', 'lgamma', 'log', 'log10', 'log1p', 'modf', 'pi', 'pow', 'radians', 'sin', 'sinh', 'sqrt', 'tan', 'tanh', 'trunc']\n"
     ]
    }
   ],
   "source": [
    "print dir(math)"
   ]
  },
  {
   "cell_type": "code",
   "execution_count": 14,
   "metadata": {
    "collapsed": false
   },
   "outputs": [
    {
     "name": "stdout",
     "output_type": "stream",
     "text": [
      "Euclidean Algorithm: Finding the greatest common divisor of two integers\n",
      "\n",
      "Enter an integer: 87\n",
      "Enter a second integer: 23\n",
      "\n",
      "64 23\n",
      "41 23\n",
      "18 23\n",
      "5 18\n",
      "13 5\n",
      "8 5\n",
      "3 5\n",
      "2 3\n",
      "1 2\n",
      "1 1\n",
      "\n",
      "Greatest common divisor of 87 and 23 is 1\n"
     ]
    }
   ],
   "source": [
    "#Finding the greatest common denominator and the Euclidean Algorithm\n",
    "\n",
    "#Assume a and b are integers, what is the greatest common divisor?\n",
    "#     -Greatest integer by which both are divisible\n",
    "#d/a means that there is some integer m such that a=md\n",
    "\n",
    "#greatest common divisor of 48 and 8?\n",
    "#8\n",
    "\n",
    "#What about 15 and 13?\n",
    "#1\n",
    "\n",
    "#29 and 29?\n",
    "#29\n",
    "\n",
    "#Need algorithm to find greatest common divisor in more general way\n",
    "\n",
    "#Euclidean algorithm:\n",
    "# -Assume integers a and b where a>=b\n",
    "# -(a,b) and (a-b,b) have the same set of common divisors\n",
    "# -gcd(a,b) = gcd(a-b,b)\n",
    "\n",
    "#Implementing Euclidean Algorithm\n",
    "print \"Euclidean Algorithm: Finding the greatest common divisor of two integers\\n\"\n",
    "a_orig=input('Enter an integer: ')\n",
    "b_orig=input('Enter a second integer: ')\n",
    "print \"\"\n",
    "\n",
    "(a,b)=(a_orig,b_orig)\n",
    "\n",
    "while True:\n",
    "    if(a==b):\n",
    "        break\n",
    "    if(a<b): (a,b)=(b,a)\n",
    "    a=a-b\n",
    "    print a,b\n",
    "    \n",
    "print \"\\nGreatest common divisor of\",a_orig,\"and\",b_orig,\"is\",a\n"
   ]
  },
  {
   "cell_type": "code",
   "execution_count": 10,
   "metadata": {
    "collapsed": true
   },
   "outputs": [],
   "source": [
    "def add(x,y):\n",
    "    return x+y"
   ]
  },
  {
   "cell_type": "code",
   "execution_count": 11,
   "metadata": {
    "collapsed": false
   },
   "outputs": [
    {
     "data": {
      "text/plain": [
       "15"
      ]
     },
     "execution_count": 11,
     "metadata": {},
     "output_type": "execute_result"
    }
   ],
   "source": [
    "add(10,5)"
   ]
  },
  {
   "cell_type": "code",
   "execution_count": 12,
   "metadata": {
    "collapsed": false
   },
   "outputs": [
    {
     "name": "stdout",
     "output_type": "stream",
     "text": [
      "5\n"
     ]
    }
   ],
   "source": [
    "#Turning euclidean algorithm into a function\n",
    "\n",
    "def myGCD(a,b):\n",
    "    while a!=b:\n",
    "        if b>a:\n",
    "            (a,b)=(b,a)\n",
    "        a=a-b\n",
    "    return a\n",
    "\n",
    "gcd=myGCD(20,5)\n",
    "print gcd"
   ]
  },
  {
   "cell_type": "code",
   "execution_count": 17,
   "metadata": {
    "collapsed": false
   },
   "outputs": [
    {
     "data": {
      "text/plain": [
       "53"
      ]
     },
     "execution_count": 17,
     "metadata": {},
     "output_type": "execute_result"
    }
   ],
   "source": [
    "myGCD(53,53)"
   ]
  },
  {
   "cell_type": "code",
   "execution_count": 2,
   "metadata": {
    "collapsed": false
   },
   "outputs": [
    {
     "name": "stdout",
     "output_type": "stream",
     "text": [
      "Help on built-in function cos in module math:\n",
      "\n",
      "cos(...)\n",
      "    cos(x)\n",
      "    \n",
      "    Return the cosine of x (measured in radians).\n",
      "\n"
     ]
    }
   ],
   "source": [
    "from math import cos\n",
    "help(cos)"
   ]
  },
  {
   "cell_type": "code",
   "execution_count": 8,
   "metadata": {
    "collapsed": false
   },
   "outputs": [
    {
     "data": {
      "text/plain": [
       "74.0"
      ]
     },
     "execution_count": 8,
     "metadata": {},
     "output_type": "execute_result"
    }
   ],
   "source": [
    "float(74)"
   ]
  },
  {
   "cell_type": "code",
   "execution_count": null,
   "metadata": {
    "collapsed": false
   },
   "outputs": [],
   "source": []
  },
  {
   "cell_type": "code",
   "execution_count": null,
   "metadata": {
    "collapsed": true
   },
   "outputs": [],
   "source": []
  }
 ],
 "metadata": {
  "kernelspec": {
   "display_name": "Python 2",
   "language": "python",
   "name": "python2"
  },
  "language_info": {
   "codemirror_mode": {
    "name": "ipython",
    "version": 2
   },
   "file_extension": ".py",
   "mimetype": "text/x-python",
   "name": "python",
   "nbconvert_exporter": "python",
   "pygments_lexer": "ipython2",
   "version": "2.7.10"
  }
 },
 "nbformat": 4,
 "nbformat_minor": 0
}
