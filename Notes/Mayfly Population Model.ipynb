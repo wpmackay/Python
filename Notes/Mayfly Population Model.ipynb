{
 "cells": [
  {
   "cell_type": "code",
   "execution_count": 2,
   "metadata": {
    "collapsed": false
   },
   "outputs": [],
   "source": [
    "#Deterministic Dynamical Systems\n",
    "    #Current state completely determines future\n",
    "    #Dynamical: Some process occurs over time\n",
    "\n",
    "#Exapmple: Mayfly Population\n",
    "    #Consider population in year t is n_t\n",
    "    #Reasonable that n_(t+1) depends on n_t. n_(t+1) is a function of n_t\n",
    "    #initial condition n_t mayflies. how to determine how many mayflies next year?\n",
    "        #Number of eggs laid by female mayfly.\n",
    "        #Percentage of eggs that survive (on average). Let a = number of surviving offspring.\n",
    "        #What is n_(t+1)? \n",
    "        #n_(t+1)=(n_t/2)*a\n",
    "    #How to define a?\n",
    "        #Simplest model- a is constant\n",
    "        #a should decrease with increasing population\n",
    "            #resource exhaustion and disease\n",
    "        #next simplest model, a ia a linear function of population a=a_0*(1-(n/k))\n",
    "        #n_(t+1)=(a_0/2)*(1-(n_t/k))*n_t\n",
    "    #Define x_t: relative population n_t/k. Proportion of maximum population\n",
    "from pylab import *\n",
    "\n",
    "def mayfly_population(x_0,b,t):\n",
    "    x=[0]*(t)\n",
    "    x[0]=x_0\n",
    "    for i in xrange(1,t):\n",
    "        x[i]=b*(1-x[i-1])*x[i-1]\n",
    "    return x\n",
    "    #plot(range(t),x,'r-')\n"
   ]
  },
  {
   "cell_type": "code",
   "execution_count": 3,
   "metadata": {
    "collapsed": false
   },
   "outputs": [],
   "source": [
    "x_0=0.5 #0<x_0<1. x_0 is the ratio of the population and the maximum population\n",
    "b=3 #Factor that defines population growth. Diverges around b>=3\n",
    "t=100 #Number of years to simulate\n",
    "\n",
    "x1=mayfly_population(x_0,b,t)\n",
    "plot(range(0,100),x1)\n",
    "show()"
   ]
  },
  {
   "cell_type": "code",
   "execution_count": 4,
   "metadata": {
    "collapsed": false
   },
   "outputs": [
    {
     "name": "stdout",
     "output_type": "stream",
     "text": [
      "[1, 4, 9, 16, 25, 36, 49, 64, 81, 100]\n",
      "[1, 4, 9, 16, 25, 36, 49, 64, 81, 100]\n"
     ]
    }
   ],
   "source": [
    "#List Comprehension\n",
    "    #Build list by applying a function to the elements of another list\n",
    "\n",
    "#Before:\n",
    "squares=[]\n",
    "for i in xrange(1,11):\n",
    "    squares.append(i**2)\n",
    "print squares\n",
    "\n",
    "#With List Comprehension:\n",
    "#Syntax: [<expression> for <item> in <list>]\n",
    "\n",
    "squares_2=[i**2 for i in xrange(1,11)]\n",
    "print squares_2"
   ]
  },
  {
   "cell_type": "code",
   "execution_count": 5,
   "metadata": {
    "collapsed": false
   },
   "outputs": [
    {
     "name": "stdout",
     "output_type": "stream",
     "text": [
      "[2, 4, 6, 8, 10]\n"
     ]
    }
   ],
   "source": [
    "#Conditional statements can be added\n",
    "    #[<expression> for <item> in <list> if <condition>]\n",
    "evens=[i for i in xrange(1,11) if i%2==0]\n",
    "print evens"
   ]
  },
  {
   "cell_type": "code",
   "execution_count": 6,
   "metadata": {
    "collapsed": false
   },
   "outputs": [],
   "source": [
    "#Now that model has been created for mayfly population, now observe effects of different b values.\n",
    "    #Run model for large number of b values up to 4. Run model for many generations (~500) to find end behavior.\n",
    "    \n",
    "x_0=.5\n",
    "b=linspace(0,4,500)\n",
    "t=500\n",
    "y=[]\n",
    "\n",
    "for i in xrange(0,500):\n",
    "    x=mayfly_population(x_0,b[i],t)\n",
    "    y.append(mean(x[400::]))\n",
    "plot(b,y,'r.')\n",
    "show()"
   ]
  },
  {
   "cell_type": "code",
   "execution_count": null,
   "metadata": {
    "collapsed": false
   },
   "outputs": [],
   "source": []
  },
  {
   "cell_type": "code",
   "execution_count": null,
   "metadata": {
    "collapsed": false
   },
   "outputs": [],
   "source": []
  },
  {
   "cell_type": "code",
   "execution_count": null,
   "metadata": {
    "collapsed": true
   },
   "outputs": [],
   "source": []
  }
 ],
 "metadata": {
  "kernelspec": {
   "display_name": "Python 2",
   "language": "python",
   "name": "python2"
  },
  "language_info": {
   "codemirror_mode": {
    "name": "ipython",
    "version": 2
   },
   "file_extension": ".py",
   "mimetype": "text/x-python",
   "name": "python",
   "nbconvert_exporter": "python",
   "pygments_lexer": "ipython2",
   "version": "2.7.10"
  }
 },
 "nbformat": 4,
 "nbformat_minor": 0
}
