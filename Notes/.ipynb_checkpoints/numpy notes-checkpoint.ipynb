{
 "cells": [
  {
   "cell_type": "code",
   "execution_count": 3,
   "metadata": {
    "collapsed": false
   },
   "outputs": [
    {
     "name": "stdout",
     "output_type": "stream",
     "text": [
      "Using matplotlib backend: Qt4Agg\n",
      "Populating the interactive namespace from numpy and matplotlib\n",
      "[1 2 3]\n"
     ]
    }
   ],
   "source": [
    "#numpy ndarray\n",
    "    #Single data type, fixed length\n",
    "    #Can still be indexed and sliced\n",
    "    #Much faster than iterating through a list\n",
    "    #Python lists can be converted into arrays\n",
    "    \n",
    "%pylab\n",
    "\n",
    "a=array([1,2,3])\n",
    "print a"
   ]
  },
  {
   "cell_type": "code",
   "execution_count": 4,
   "metadata": {
    "collapsed": false
   },
   "outputs": [
    {
     "name": "stdout",
     "output_type": "stream",
     "text": [
      "[4 5 6]\n"
     ]
    }
   ],
   "source": [
    "#Array operations \n",
    "    #*,/, +,- of a scalar to arrays\n",
    "print a+3"
   ]
  },
  {
   "cell_type": "code",
   "execution_count": 5,
   "metadata": {
    "collapsed": false
   },
   "outputs": [
    {
     "name": "stdout",
     "output_type": "stream",
     "text": [
      "[3 6 9]\n"
     ]
    }
   ],
   "source": [
    "a*=3\n",
    "print a"
   ]
  },
  {
   "cell_type": "code",
   "execution_count": 6,
   "metadata": {
    "collapsed": false
   },
   "outputs": [
    {
     "name": "stdout",
     "output_type": "stream",
     "text": [
      "[ 9 36 81]\n"
     ]
    }
   ],
   "source": [
    "print a**2"
   ]
  },
  {
   "cell_type": "code",
   "execution_count": 7,
   "metadata": {
    "collapsed": false
   },
   "outputs": [
    {
     "name": "stdout",
     "output_type": "stream",
     "text": [
      "[ 21  57 111]\n"
     ]
    }
   ],
   "source": [
    "print a**2+3*a+3"
   ]
  },
  {
   "cell_type": "code",
   "execution_count": 8,
   "metadata": {
    "collapsed": false
   },
   "outputs": [],
   "source": [
    "#Can get array versions of all basic trig/transcendental functions (like math module)\n",
    "#Perfomring operations like this in numpy is called Vectorization\n",
    "x=linspace(0,2*pi,100)\n",
    "y=sin(x)\n",
    "plot(x,y)\n",
    "show()"
   ]
  },
  {
   "cell_type": "code",
   "execution_count": 10,
   "metadata": {
    "collapsed": false
   },
   "outputs": [],
   "source": [
    "#Illustrating time efficiency of each implementation. Using nested loops is significantly slower.\n",
    "tmax=500\n",
    "tmin=tmax/2\n",
    "b_values=linspace(0,4,41)\n",
    "for b in b_values:\n",
    "    x=0.5\n",
    "    for i in xrange(tmax):\n",
    "        if i>tmin:\n",
    "            plot(b,x,'r.')\n",
    "        x=b*(1-x)*x"
   ]
  },
  {
   "cell_type": "code",
   "execution_count": 11,
   "metadata": {
    "collapsed": true
   },
   "outputs": [],
   "source": [
    "b=linspace(1,4,1000)\n",
    "x=0.5\n",
    "t_max=750\n",
    "t_min=t_max/2\n",
    "for i in xrange(t_max):\n",
    "    if i>t_min:\n",
    "        plot(b,x,'b.',ms=1,alpha=.3)\n",
    "    x=b*(1-x)*x"
   ]
  },
  {
   "cell_type": "code",
   "execution_count": null,
   "metadata": {
    "collapsed": true
   },
   "outputs": [],
   "source": []
  }
 ],
 "metadata": {
  "kernelspec": {
   "display_name": "Python 2",
   "language": "python",
   "name": "python2"
  },
  "language_info": {
   "codemirror_mode": {
    "name": "ipython",
    "version": 2
   },
   "file_extension": ".py",
   "mimetype": "text/x-python",
   "name": "python",
   "nbconvert_exporter": "python",
   "pygments_lexer": "ipython2",
   "version": "2.7.10"
  }
 },
 "nbformat": 4,
 "nbformat_minor": 0
}
