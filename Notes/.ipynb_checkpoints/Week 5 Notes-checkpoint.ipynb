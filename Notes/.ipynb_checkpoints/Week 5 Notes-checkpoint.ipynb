{
 "cells": [
  {
   "cell_type": "code",
   "execution_count": 1,
   "metadata": {
    "collapsed": false
   },
   "outputs": [
    {
     "name": "stdout",
     "output_type": "stream",
     "text": [
      "Populating the interactive namespace from numpy and matplotlib\n"
     ]
    }
   ],
   "source": [
    "#Numpy 'loadtxt'\n",
    "    #First argument is filename\n",
    "    #Each row must have same number of characters\n",
    "    #\"delimiter\" character taht separates variables\n",
    "#HW 4.1- \n",
    "    #open file on website\n",
    "    #save to local file\n",
    "    #load data using \"loadtxt\"\n",
    "    #extract minutes, seconds, temp\n",
    "    #plot temp vs. time \n",
    "    #briefly describe behavior\n",
    "\n",
    "%pylab inline"
   ]
  },
  {
   "cell_type": "code",
   "execution_count": 2,
   "metadata": {
    "collapsed": true
   },
   "outputs": [],
   "source": [
    "#Floating point numbers:\n",
    "    #Binary scientific notation\n",
    "        #Example: 1.0110100010*2^11010\n",
    "        #Components: \n",
    "            #Sign (0=+,1=-) \n",
    "            #Exponent (power of 2)\n",
    "            #Don't store leading 1, the rest of the leading number is mantissa\n",
    "            #1 bit for sign, e bits for exponent, m bits for mantissa. 64 bits in total for double precision.\n",
    "        #Smallest number?\n",
    "            #Exponents of all zeros, mantissa of 0?\n",
    "            #Actually have biased exponent, adds extra term. Typically half # of exponent cases.\n",
    "                #(-1)^s*(1+mantissa)*2^(exponent-bias)\n",
    "                #To represent 0: If exponent is all 0s, left-most bit is assumed to b0 0, not 1.\n",
    "                \n",
    "        #IEEE 754 Floating Point Standard (1985):\n",
    "        \n",
    "        #Machine Epsilon\n",
    "            #1+epsilon is the smallest number that is bigger than 1 (according to computer).\n",
    "                #0 sign bit, mantissa has 1 in rightmost bit, so e=1+2^(-m)\n",
    "                "
   ]
  },
  {
   "cell_type": "code",
   "execution_count": 6,
   "metadata": {
    "collapsed": false
   },
   "outputs": [
    {
     "name": "stdout",
     "output_type": "stream",
     "text": [
      "0\n"
     ]
    }
   ],
   "source": [
    "x=0\n",
    "while True:\n",
    "    if x%3==0 and x%15==0:\n",
    "        print x\n",
    "        break\n",
    "    x=x+1"
   ]
  },
  {
   "cell_type": "code",
   "execution_count": null,
   "metadata": {
    "collapsed": true
   },
   "outputs": [],
   "source": []
  }
 ],
 "metadata": {
  "kernelspec": {
   "display_name": "Python 2",
   "language": "python",
   "name": "python2"
  },
  "language_info": {
   "codemirror_mode": {
    "name": "ipython",
    "version": 2
   },
   "file_extension": ".py",
   "mimetype": "text/x-python",
   "name": "python",
   "nbconvert_exporter": "python",
   "pygments_lexer": "ipython2",
   "version": "2.7.10"
  }
 },
 "nbformat": 4,
 "nbformat_minor": 0
}
