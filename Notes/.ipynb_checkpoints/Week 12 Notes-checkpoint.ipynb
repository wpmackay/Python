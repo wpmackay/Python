{
 "cells": [
  {
   "cell_type": "code",
   "execution_count": 2,
   "metadata": {
    "collapsed": false
   },
   "outputs": [
    {
     "name": "stdout",
     "output_type": "stream",
     "text": [
      "Populating the interactive namespace from numpy and matplotlib\n"
     ]
    }
   ],
   "source": [
    "%pylab inline"
   ]
  },
  {
   "cell_type": "code",
   "execution_count": 3,
   "metadata": {
    "collapsed": true
   },
   "outputs": [],
   "source": [
    "#Multivariable Optimization\n",
    "\n",
    "#Stumbledown Algorithm\n",
    "\n",
    "def f(x):\n",
    "    return (x[0]-5)**2+(x[1]-3)**2+17\n",
    "\n",
    "def stumbledown(f,p,stepsize,n=1000):\n",
    "    nfails=0\n",
    "    for i in xrange(n):\n",
    "        q=[2*stepsize*random.rand()-stepsize+p[0],stepsize*random.rand()-(stepsize/2)+p[1]]\n",
    "        if f(q)<f(p):\n",
    "            plot([p[0],q[0]],[p[1],q[1]],'bo-')\n",
    "            p=q\n",
    "            s='Success'\n",
    "            nfails=0\n",
    "        else: \n",
    "            s='Failure'\n",
    "            plot([p[0],q[0]],[p[1],q[1]],'r.-')\n",
    "            nfails+=1\n",
    "        if nfails>10:\n",
    "            nfails=0\n",
    "            stepsize=stepsize/2\n",
    "        if stepsize<(10**-8):\n",
    "            break      \n",
    "    return p,i"
   ]
  },
  {
   "cell_type": "code",
   "execution_count": 5,
   "metadata": {
    "collapsed": false,
    "scrolled": false
   },
   "outputs": [
    {
     "name": "stdout",
     "output_type": "stream",
     "text": [
      "[4.999999968422439, 2.9999999369799633] 563\n"
     ]
    },
    {
     "data": {
      "image/png": "[encoded data removed]",
      "text/plain": [
       "<matplotlib.figure.Figure at 0x7beead0>"
      ]
     },
     "metadata": {},
     "output_type": "display_data"
    }
   ],
   "source": [
    "p=[10,-7]\n",
    "stepsize=1.\n",
    "\n",
    "p,nsteps=stumbledown(f,p,stepsize)\n",
    "\n",
    "print p, nsteps"
   ]
  },
  {
   "cell_type": "code",
   "execution_count": 1,
   "metadata": {
    "collapsed": false
   },
   "outputs": [],
   "source": [
    "#GPS System Simulation\n",
    "def GPS_f(xi,yi,d,X):\n",
    "    x=X*ones((len(xi),2))\n",
    "    return sum((sqrt((X[0]-xi)**2+(X[1]-yi)**2)-d1)**2)\n",
    "             \n",
    "def GPS(X):\n",
    "    xi=array([553,744,177.1,413,444,4.5,667])\n",
    "    yi=array([223,128,507.5,319,845,38.1,562])\n",
    "    d=array([272,170,102,521.85,363,675,177])\n",
    "    return GPS_f(xi,yi,d,X)"
   ]
  },
  {
   "cell_type": "code",
   "execution_count": null,
   "metadata": {
    "collapsed": false
   },
   "outputs": [],
   "source": []
  },
  {
   "cell_type": "code",
   "execution_count": null,
   "metadata": {
    "collapsed": true
   },
   "outputs": [],
   "source": []
  }
 ],
 "metadata": {
  "kernelspec": {
   "display_name": "Python 2",
   "language": "python",
   "name": "python2"
  },
  "language_info": {
   "codemirror_mode": {
    "name": "ipython",
    "version": 2
   },
   "file_extension": ".py",
   "mimetype": "text/x-python",
   "name": "python",
   "nbconvert_exporter": "python",
   "pygments_lexer": "ipython2",
   "version": "2.7.10"
  }
 },
 "nbformat": 4,
 "nbformat_minor": 0
}
