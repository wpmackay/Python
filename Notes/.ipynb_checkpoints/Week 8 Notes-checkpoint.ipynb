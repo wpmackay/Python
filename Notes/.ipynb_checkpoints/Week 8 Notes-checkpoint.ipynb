{
 "cells": [
  {
   "cell_type": "code",
   "execution_count": 5,
   "metadata": {
    "collapsed": false
   },
   "outputs": [
    {
     "name": "stdout",
     "output_type": "stream",
     "text": [
      "Populating the interactive namespace from numpy and matplotlib\n"
     ]
    }
   ],
   "source": [
    "#Bisection Method\n",
    "%pylab inline"
   ]
  },
  {
   "cell_type": "code",
   "execution_count": 1,
   "metadata": {
    "collapsed": true
   },
   "outputs": [],
   "source": [
    "def myf(x):\n",
    "    return cos(x)-x"
   ]
  },
  {
   "cell_type": "code",
   "execution_count": 2,
   "metadata": {
    "collapsed": false
   },
   "outputs": [],
   "source": [
    "def bisection(f,a,b,tol):\n",
    "    if sign(f(a))==sign(f(b)):\n",
    "        print 'f(a) and f(b) have the same sign.'\n",
    "        return \n",
    "    if sign(f(a))==0:\n",
    "        return a\n",
    "    if sign(f(b))==0:\n",
    "        return b\n",
    "    step=0\n",
    "    while (b-a)>tol:\n",
    "        c=(b+a)/2\n",
    "        signc=sign(f(c))\n",
    "        if signc==0:\n",
    "            return c\n",
    "        elif signc==sign(f(a)):\n",
    "            a=c\n",
    "        else:\n",
    "            b=c\n",
    "        step+=1\n",
    "        print a,b\n",
    "    return (a+b)/2"
   ]
  },
  {
   "cell_type": "code",
   "execution_count": 7,
   "metadata": {
    "collapsed": false
   },
   "outputs": [
    {
     "name": "stdout",
     "output_type": "stream",
     "text": [
      "0 0.785398163397\n",
      "0.392699081699 0.785398163397\n",
      "0.589048622548 0.785398163397\n",
      "0.687223392973 0.785398163397\n",
      "0.736310778185 0.785398163397\n",
      "0.736310778185 0.760854470791\n",
      "0.736310778185 0.748582624488\n",
      "0.736310778185 0.742446701337\n",
      "0.736310778185 0.739378739761\n",
      "0.737844758973 0.739378739761\n",
      "0.738611749367 0.739378739761\n",
      "0.738995244564 0.739378739761\n",
      "0.738995244564 0.739186992162\n",
      "0.738995244564 0.739091118363\n",
      "0.739043181464 0.739091118363\n",
      "0.739067149913 0.739091118363\n",
      "0.739079134138 0.739091118363\n",
      "0.739085126251 0.739091118363\n",
      "0.739085126251 0.739088122307\n",
      "0.739085126251 0.739086624279\n",
      "0.739085126251 0.739085875265\n"
     ]
    },
    {
     "data": {
      "text/plain": [
       "0.7390855007577259"
      ]
     },
     "execution_count": 7,
     "metadata": {},
     "output_type": "execute_result"
    }
   ],
   "source": [
    "bisection(myf,0,pi/2,10**-6)"
   ]
  },
  {
   "cell_type": "code",
   "execution_count": null,
   "metadata": {
    "collapsed": true
   },
   "outputs": [],
   "source": []
  },
  {
   "cell_type": "code",
   "execution_count": null,
   "metadata": {
    "collapsed": true
   },
   "outputs": [],
   "source": []
  }
 ],
 "metadata": {
  "kernelspec": {
   "display_name": "Python 2",
   "language": "python",
   "name": "python2"
  },
  "language_info": {
   "codemirror_mode": {
    "name": "ipython",
    "version": 2
   },
   "file_extension": ".py",
   "mimetype": "text/x-python",
   "name": "python",
   "nbconvert_exporter": "python",
   "pygments_lexer": "ipython2",
   "version": "2.7.10"
  }
 },
 "nbformat": 4,
 "nbformat_minor": 0
}
