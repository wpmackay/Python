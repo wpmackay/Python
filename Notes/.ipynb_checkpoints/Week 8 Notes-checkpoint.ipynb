{
 "cells": [
  {
   "cell_type": "code",
   "execution_count": 2,
   "metadata": {
    "collapsed": false
   },
   "outputs": [
    {
     "name": "stdout",
     "output_type": "stream",
     "text": [
      "Populating the interactive namespace from numpy and matplotlib\n"
     ]
    }
   ],
   "source": [
    "#Bisection Method\n",
    "%pylab inline"
   ]
  },
  {
   "cell_type": "code",
   "execution_count": 3,
   "metadata": {
    "collapsed": true
   },
   "outputs": [],
   "source": [
    "def myf(x):\n",
    "    return cos(x)-x"
   ]
  },
  {
   "cell_type": "code",
   "execution_count": 8,
   "metadata": {
    "collapsed": false
   },
   "outputs": [],
   "source": [
    "def bisection(f,a,b,tol):\n",
    "    if sign(f(a))==sign(f(b)):\n",
    "        print 'f(a) and f(b) have the same sign.'\n",
    "        return \n",
    "    if sign(f(a))==0:\n",
    "        return a\n",
    "    if sign(f(b))==0:\n",
    "        return b\n",
    "    step=0\n",
    "    while (b-a)>tol:\n",
    "        c=(b+a)/2\n",
    "        signc=sign(f(c))\n",
    "        if signc==0:\n",
    "            return c\n",
    "        elif signc==sign(f(a)):\n",
    "            a=c\n",
    "        else:\n",
    "            b=c\n",
    "        step+=1\n",
    "        print step, a,b\n",
    "    return (a+b)/2"
   ]
  },
  {
   "cell_type": "code",
   "execution_count": 9,
   "metadata": {
    "collapsed": false
   },
   "outputs": [
    {
     "name": "stdout",
     "output_type": "stream",
     "text": [
      "1 0 0.785398163397\n",
      "2 0.392699081699 0.785398163397\n",
      "3 0.589048622548 0.785398163397\n",
      "4 0.687223392973 0.785398163397\n",
      "5 0.736310778185 0.785398163397\n",
      "6 0.736310778185 0.760854470791\n",
      "7 0.736310778185 0.748582624488\n",
      "8 0.736310778185 0.742446701337\n",
      "9 0.736310778185 0.739378739761\n",
      "10 0.737844758973 0.739378739761\n",
      "11 0.738611749367 0.739378739761\n",
      "12 0.738995244564 0.739378739761\n",
      "13 0.738995244564 0.739186992162\n",
      "14 0.738995244564 0.739091118363\n",
      "15 0.739043181464 0.739091118363\n",
      "16 0.739067149913 0.739091118363\n",
      "17 0.739079134138 0.739091118363\n",
      "18 0.739085126251 0.739091118363\n",
      "19 0.739085126251 0.739088122307\n",
      "20 0.739085126251 0.739086624279\n",
      "21 0.739085126251 0.739085875265\n"
     ]
    },
    {
     "data": {
      "text/plain": [
       "0.7390855007577259"
      ]
     },
     "execution_count": 9,
     "metadata": {},
     "output_type": "execute_result"
    }
   ],
   "source": [
    "bisection(myf,0,pi/2,10**-6)"
   ]
  },
  {
   "cell_type": "code",
   "execution_count": 6,
   "metadata": {
    "collapsed": true
   },
   "outputs": [],
   "source": [
    "def func_iter(f, x, tol):\n",
    "    step = 0\n",
    "    fval = f(x)\n",
    "    while abs(fval) > tol:\n",
    "        print step, x\n",
    "        fval = f(x)\n",
    "        x = fval + x\n",
    "        step += 1\n",
    "    return x"
   ]
  },
  {
   "cell_type": "code",
   "execution_count": 7,
   "metadata": {
    "collapsed": false
   },
   "outputs": [
    {
     "name": "stdout",
     "output_type": "stream",
     "text": [
      "0 1.0\n",
      "1 0.540302305868\n",
      "2 0.857553215846\n",
      "3 0.654289790498\n",
      "4 0.793480358743\n",
      "5 0.701368773623\n",
      "6 0.763959682901\n",
      "7 0.722102425027\n",
      "8 0.750417761764\n",
      "9 0.731404042423\n",
      "10 0.744237354901\n",
      "11 0.735604740436\n",
      "12 0.74142508661\n",
      "13 0.737506890513\n",
      "14 0.740147335568\n",
      "15 0.738369204122\n",
      "16 0.739567202212\n",
      "17 0.738760319874\n",
      "18 0.739303892397\n",
      "19 0.738937756715\n",
      "20 0.739184399771\n",
      "21 0.739018262427\n",
      "22 0.73913017653\n",
      "23 0.739054790747\n",
      "24 0.739105571927\n",
      "25 0.739071365299\n",
      "26 0.739094407379\n",
      "27 0.739078885995\n",
      "28 0.739089341403\n"
     ]
    },
    {
     "data": {
      "text/plain": [
       "0.73908229852240237"
      ]
     },
     "execution_count": 7,
     "metadata": {},
     "output_type": "execute_result"
    }
   ],
   "source": [
    "func_iter(myf, 1., 1e-5)"
   ]
  },
  {
   "cell_type": "code",
   "execution_count": 10,
   "metadata": {
    "collapsed": true
   },
   "outputs": [],
   "source": [
    "def myfdf(x):\n",
    "    return cos(x) -  x, -sin(x) - 1"
   ]
  },
  {
   "cell_type": "code",
   "execution_count": 11,
   "metadata": {
    "collapsed": true
   },
   "outputs": [],
   "source": [
    "def newton(fdf, x, tol):\n",
    "    while True:\n",
    "        f, df = fdf(x)\n",
    "        print x, f\n",
    "        s = - f/df\n",
    "        x += s\n",
    "        if abs(s) <= tol:\n",
    "            return x"
   ]
  },
  {
   "cell_type": "code",
   "execution_count": 13,
   "metadata": {
    "collapsed": false
   },
   "outputs": [
    {
     "name": "stdout",
     "output_type": "stream",
     "text": [
      "0.5 0.37758256189\n",
      "0.755222417106 -0.0271033118575\n",
      "0.73914166615 -9.46153806177e-05\n",
      "0.739085133921 -1.18097787105e-09\n",
      "0.739085133215 0.0\n"
     ]
    },
    {
     "data": {
      "text/plain": [
       "0.73908513321516067"
      ]
     },
     "execution_count": 13,
     "metadata": {},
     "output_type": "execute_result"
    }
   ],
   "source": [
    "newton(myfdf, .5, 1e-10)"
   ]
  },
  {
   "cell_type": "code",
   "execution_count": 14,
   "metadata": {
    "collapsed": true
   },
   "outputs": [],
   "source": [
    "def myf2(x):\n",
    "    return tanh(x)"
   ]
  },
  {
   "cell_type": "code",
   "execution_count": 18,
   "metadata": {
    "collapsed": true
   },
   "outputs": [],
   "source": [
    "def mydf2(x):\n",
    "    return tanh(x), (1/cosh(x))**2"
   ]
  },
  {
   "cell_type": "code",
   "execution_count": 19,
   "metadata": {
    "collapsed": true
   },
   "outputs": [],
   "source": [
    "def newton(fdf, x, tol, lim=10):\n",
    "    for i in xrange(lim):\n",
    "        f, df = fdf(x)\n",
    "        print x, f\n",
    "        s = - f/df\n",
    "        x += s\n",
    "        if abs(s) <= tol:\n",
    "            return x"
   ]
  },
  {
   "cell_type": "code",
   "execution_count": 25,
   "metadata": {
    "collapsed": false
   },
   "outputs": [
    {
     "name": "stdout",
     "output_type": "stream",
     "text": [
      "-1.06 -0.785663859027\n",
      "0.992776464794 0.758543727939\n",
      "-0.793665691641 -0.66048063213\n",
      "0.377886710781 0.36087079064\n",
      "-0.0370159046112 -0.0369990077557\n",
      "3.38214991728e-05 3.38214991599e-05\n",
      "-2.57921329151e-14 -2.57921329151e-14\n"
     ]
    },
    {
     "data": {
      "text/plain": [
       "0.0"
      ]
     },
     "execution_count": 25,
     "metadata": {},
     "output_type": "execute_result"
    }
   ],
   "source": [
    "newton(mydf2, -1.06, 1e-5)"
   ]
  },
  {
   "cell_type": "code",
   "execution_count": 26,
   "metadata": {
    "collapsed": true
   },
   "outputs": [],
   "source": [
    "#In order to find the critical point for Newton's method, find the roots of the function used in newton's method\n",
    "def mydf3(x):\n",
    "    return sinh(x)*cosh(x)-2*x,cosh(2*x)-2"
   ]
  },
  {
   "cell_type": "code",
   "execution_count": 28,
   "metadata": {
    "collapsed": false
   },
   "outputs": [
    {
     "name": "stdout",
     "output_type": "stream",
     "text": [
      "1.06 -0.0672235352059\n",
      "1.0902048893 0.00382442400474\n",
      "1.08866369242 1.03654409553e-05\n"
     ]
    },
    {
     "data": {
      "text/plain": [
       "1.0886594925137771"
      ]
     },
     "execution_count": 28,
     "metadata": {},
     "output_type": "execute_result"
    }
   ],
   "source": [
    "newton(mydf3, 1.06, 1e-5)"
   ]
  },
  {
   "cell_type": "code",
   "execution_count": 64,
   "metadata": {
    "collapsed": false
   },
   "outputs": [
    {
     "data": {
      "text/plain": [
       "<matplotlib.image.AxesImage at 0x9573970>"
      ]
     },
     "execution_count": 64,
     "metadata": {},
     "output_type": "execute_result"
    },
    {
     "data": {
      "image/png": "[encoded data removed]",
      "text/plain": [
       "<matplotlib.figure.Figure at 0x91edb90>"
      ]
     },
     "metadata": {},
     "output_type": "display_data"
    }
   ],
   "source": [
    "#RGB values python\n",
    "#3d array in numpy, all 0 initial\n",
    "\n",
    "colors=zeros((80,80,3))\n",
    "for i in xrange(80):\n",
    "    for j in xrange(80):\n",
    "        colors[i,j,0]=1\n",
    "        if j<40:\n",
    "            colors[i,j,1]=1\n",
    "        if i>40 and j<40:\n",
    "            colors[i,j,0]=0\n",
    "            colors[i,j,1]=1\n",
    "            colors[i,j,2]=0\n",
    "        if i>40 and j>=40:\n",
    "            colors[i,j,0]=0\n",
    "            colors[i,j,1]=0\n",
    "            colors[i,j,2]=0\n",
    "        if i>20 and i<60 and j>20 and j<60:\n",
    "            colors[i,j,2]=1\n",
    "            \n",
    "\n",
    "imshow(colors)"
   ]
  },
  {
   "cell_type": "code",
   "execution_count": null,
   "metadata": {
    "collapsed": true
   },
   "outputs": [],
   "source": []
  },
  {
   "cell_type": "code",
   "execution_count": null,
   "metadata": {
    "collapsed": true
   },
   "outputs": [],
   "source": []
  }
 ],
 "metadata": {
  "kernelspec": {
   "display_name": "Python 2",
   "language": "python",
   "name": "python2"
  },
  "language_info": {
   "codemirror_mode": {
    "name": "ipython",
    "version": 2
   },
   "file_extension": ".py",
   "mimetype": "text/x-python",
   "name": "python",
   "nbconvert_exporter": "python",
   "pygments_lexer": "ipython2",
   "version": "2.7.10"
  }
 },
 "nbformat": 4,
 "nbformat_minor": 0
}
