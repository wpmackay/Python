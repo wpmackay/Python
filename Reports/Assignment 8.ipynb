{
 "cells": [
  {
   "cell_type": "code",
   "execution_count": 1,
   "metadata": {
    "collapsed": false
   },
   "outputs": [
    {
     "name": "stdout",
     "output_type": "stream",
     "text": [
      "Using matplotlib backend: Qt4Agg\n",
      "Populating the interactive namespace from numpy and matplotlib\n"
     ]
    }
   ],
   "source": [
    "%pylab"
   ]
  },
  {
   "cell_type": "code",
   "execution_count": null,
   "metadata": {
    "collapsed": true
   },
   "outputs": [],
   "source": [
    "n=10000"
   ]
  },
  {
   "cell_type": "code",
   "execution_count": null,
   "metadata": {
    "collapsed": false
   },
   "outputs": [],
   "source": [
    "#Part 1 - Random Number Generation\n",
    "\n",
    "print \"PART 1\"\n",
    "\n",
    "def RNG(k, a=427419669081, m=999999999989):\n",
    "    k=a*k%m\n",
    "    xk=k/m\n",
    "    return xk\n",
    "\n",
    "def randu(k, a=2**16+3, m=2**31):\n",
    "    k=a*k%m\n",
    "    xk=k/m\n",
    "    return xk\n",
    "\n",
    "#Histogram for uniformity of RNG\n",
    "k_rng=linspace(1,999999999989,n)\n",
    "x_rng=RNG(k_rng)\n",
    "\n",
    "figure (1)\n",
    "hist(x_rng,50)\n",
    "title('RNG Histogram')\n",
    "\n",
    "#Testing for pairwise correlation in RNG\n",
    "figure(2)\n",
    "plot(x_rng[0::2],x_rng[1::2],'b.')\n",
    "title('RNG Pairwise Correlation')\n",
    "xlabel('$x_i$')\n",
    "ylabel('$x_{i+1}$')\n",
    "\n",
    "#Histogram for uniformity of randu\n",
    "k_randu=linspace(1,2**31,n)\n",
    "x_randu=randu(k_randu)\n",
    "\n",
    "figure (3)\n",
    "hist(x_randu,50)\n",
    "title('randu Histogram')\n",
    "\n",
    "#Testing for pairwise correlation in randu\n",
    "figure(4)\n",
    "plot(x_randu[0::2],x_randu[1::2],'b.')\n",
    "title('randu Pairwise Correlation')\n",
    "xlabel('$x_i$')\n",
    "ylabel('$x_{i+1}$')\n",
    "\n",
    "#Testing random.rand\n",
    "x_rand=random.rand(n)\n",
    "\n",
    "figure (5)\n",
    "hist(x_rand,50)\n",
    "title('random.rand Histogram')\n",
    "\n",
    "figure (6)\n",
    "plot(x_rand[0::2],x_rand[1::2],'b.')\n",
    "title('random.rand Pairwise Correlation')\n",
    "xlabel('$x_i$')\n",
    "ylabel('$x_{i+1}$')"
   ]
  },
  {
   "cell_type": "code",
   "execution_count": null,
   "metadata": {
    "collapsed": false
   },
   "outputs": [],
   "source": [
    "#Part 2 - Finding the Mean of mysterf Using Monte Carlo Integration\n",
    "print \"PART 2\"\n",
    "\n",
    "from mystery import mysteryf\n",
    "\n",
    "x=5*random.rand(1000)\n",
    "y=mysteryf(x)\n",
    "\n",
    "figure (7)\n",
    "plot(x,y,'b.')\n",
    "title('Plotting mysteryf Evaluated at Random Points')\n",
    "xlabel('x')\n",
    "ylabel('mysteryf(x)')\n",
    "\n",
    "def mysteryf_mean(n):\n",
    "    x=5*random.rand(n)\n",
    "    y=mysteryf(x)\n",
    "    y_avg=mean(y)\n",
    "    return y_avg\n",
    "\n",
    "y_avg=mysteryf_mean(n)\n",
    "print \"The mean of mysteryf in the range [0,5] is\",y_avg"
   ]
  },
  {
   "cell_type": "code",
   "execution_count": null,
   "metadata": {
    "collapsed": false
   },
   "outputs": [],
   "source": [
    "#Part 3 - Monte Carlo Integration of a Polar Function\n",
    "print \"PART 3\"\n",
    "\n",
    "#Defining box enclosing function\n",
    "x=6*random.rand(n)-3\n",
    "y=6*random.rand(n)-3\n",
    "total_area=6**2\n",
    "\n",
    "#Converting to polar coordinates\n",
    "theta2=arctan2(y,x)\n",
    "r2=sqrt(x**2+y**2)\n",
    "\n",
    "#Plotting function and box\n",
    "figure(8)\n",
    "polar(theta,r,'k',linewidth=2)\n",
    "polar(theta2,r2,'b.',ms=1, alpha=0.5)\n",
    "title(r'$r=2+cos(7\\theta)$ With Random Points')\n",
    "\n",
    "#Finding r of the actual function at each random theta value\n",
    "rf=2+cos(7*theta2)\n",
    "#Calculating number of points inside the curve\n",
    "inside=(rf-r2)>=0\n",
    "inside=sum(inside)\n",
    "\n",
    "#Using ratio of points inside to total to find area of the curve\n",
    "area_ratio=float(inside)/n\n",
    "area_curve=area_ratio*total_area\n",
    "print \"The area of the curve is approximately\",area_curve"
   ]
  },
  {
   "cell_type": "code",
   "execution_count": null,
   "metadata": {
    "collapsed": false
   },
   "outputs": [],
   "source": [
    "#Part 4 - Simulating a Bernoulli Random Number\n",
    "print \"PART 4\"\n",
    "\n",
    "num_swings=100\n",
    "num_hits=29\n",
    "p=0.29\n",
    "\n",
    "def batting_trial(num_swings,num_hits,p,n):\n",
    "    swings=random.rand(n,num_swings)\n",
    "    hits=swings<p\n",
    "    hits_per_trial=sum(hits,axis=1)\n",
    "    x=float(sum(hits_per_trial==num_hits))  \n",
    "    return x/n\n",
    "\n",
    "prob=batting_trial(num_swings,num_hits,p,n)\n",
    "print prob"
   ]
  },
  {
   "cell_type": "code",
   "execution_count": null,
   "metadata": {
    "collapsed": false
   },
   "outputs": [],
   "source": [
    "#Part 5 - Sums of Random Numbers, and the Central Limit Theorem\n",
    "print \"PART 5\"\n",
    "\n",
    "figure(9)\n",
    "for i in xrange(2,9):\n",
    "    results=random.rand(i,n)\n",
    "    totals=sum(results, axis=0)\n",
    "    hist(totals,bins=50, normed=True,histtype='step',label=str(i))\n",
    "title('Histograms of Sums of 2-8 Random Numbers')\n",
    "legend()\n",
    "\n",
    "figure(10)\n",
    "for i in xrange(2,9):\n",
    "    results=random.rand(i,n)\n",
    "    totals=sum(results, axis=0)\n",
    "    hist((totals-(i/2.))/(sqrt(i)),bins=50, normed=True,histtype='step',label=str(i))\n",
    "title('Histograms of Sums of 2-8 Random Numbers shifted by M/2 and Divided by $M^{1/2}$')\n",
    "legend()"
   ]
  },
  {
   "cell_type": "code",
   "execution_count": null,
   "metadata": {
    "collapsed": false
   },
   "outputs": [],
   "source": [
    "#Part 6 - Stock Market Simulation\n",
    "print \"PART 6\"\n",
    "\n",
    "def stock_sim(s_0,t,mu=0,sigma=0.05,trials=1):\n",
    "    s=empty((trials,t))\n",
    "    s[:,0]=s_0*ones(trials)\n",
    "    for i in xrange(1,t):\n",
    "        epsilon=random.normal(size=trials)\n",
    "        s[:,i]=(1+mu+sigma*epsilon)*s[:,i-1]\n",
    "    return s\n",
    "\n",
    "s_0=1\n",
    "mu=0.000\n",
    "sigma1=0.05\n",
    "sigma2=0.01\n",
    "t_max=365\n",
    "trials=10000\n",
    "t=linspace(0,t_max,t_max)\n",
    "s1=stock_sim(s_0,t_max,mu,sigma1,trials)\n",
    "s2=stock_sim(s_0,t_max,mu,sigma2,trials)\n",
    "\n",
    "t=linspace(0,t_max,t_max)\n",
    "s=stock_sim(s_0,t_max,mu,sigma,5)\n",
    "\n",
    "figure(11)\n",
    "for i in xrange(5):\n",
    "    plot(t,s[i,:],label=str(i))\n",
    "title('Several Runs of stock_sim for 1 Year')\n",
    "    \n",
    "final_price1=s1[:,364]\n",
    "EV1=mean(final_price1)\n",
    "loss1=final_price1<1\n",
    "p_loss1=float(sum(loss1))/trials\n",
    "print \"Expected Value\",\"(\", u'\\u03c3',\"= 0.05\",\")\",\"=\", EV1\n",
    "print \"Probability of Losing Money =\", p_loss1\n",
    "figure(12)\n",
    "hist(final_price1,50)\n",
    "title(r'Histogram of Final Stock Price $(\\sigma=0.05)$')\n",
    "\n",
    "final_price2=s2[:,364]\n",
    "EV2=mean(final_price2)\n",
    "loss2=final_price2<1\n",
    "p_loss2=float(sum(loss2))/trials\n",
    "print \"Expected Value\",\"(\", u'\\u03c3',\"= 0.01\",\")\",\"=\", EV2\n",
    "print \"Probability of Losing Money =\", p_loss2\n",
    "figure(13)\n",
    "hist(final_price2,50)\n",
    "title(r'Histogram of Final Stock Price $(\\sigma=0.01)$')"
   ]
  },
  {
   "cell_type": "code",
   "execution_count": 3,
   "metadata": {
    "collapsed": false,
    "scrolled": false
   },
   "outputs": [
    {
     "name": "stdout",
     "output_type": "stream",
     "text": [
      "PART 2\n",
      "The mean of mysteryf in the range [0,5] is 68.0423813255\n",
      "PART 3\n",
      "The area of the curve is approximately 14.1012\n",
      "PART 4\n",
      "The probability of getting exactly 29 hits is approximately 0.092\n",
      "PART 6\n",
      "Expected Value ( σ = 0.05 ) = 0.997913092921\n",
      "Probability of Losing Money = 0.6749\n",
      "Expected Value ( σ = 0.01 ) = 0.999866905088\n",
      "Probability of Losing Money = 0.537\n"
     ]
    }
   ],
   "source": [
    "%run \"report08.py\""
   ]
  },
  {
   "cell_type": "code",
   "execution_count": null,
   "metadata": {
    "collapsed": false
   },
   "outputs": [],
   "source": [
    "for i in xrange(2,9):\n",
    "    results=(1/3)*(rand(i,n))**(1./4)\n",
    "    totals=sum(results, axis=0)\n",
    "    hist(totals,bins=50, normed=True,histtype='step',label=str(i))\n",
    "title('Histograms of Sums of 2-8 Non-Uniform Random Numbers')\n",
    "legend()"
   ]
  },
  {
   "cell_type": "code",
   "execution_count": null,
   "metadata": {
    "collapsed": false
   },
   "outputs": [],
   "source": [
    "u = rand(100000)\n",
    "v = 4*u**(1./3)\n",
    "hist(v, normed=True, bins=50, fc='c', label='v = g(u)')\n"
   ]
  },
  {
   "cell_type": "code",
   "execution_count": null,
   "metadata": {
    "collapsed": true
   },
   "outputs": [],
   "source": []
  }
 ],
 "metadata": {
  "kernelspec": {
   "display_name": "Python 2",
   "language": "python",
   "name": "python2"
  },
  "language_info": {
   "codemirror_mode": {
    "name": "ipython",
    "version": 2
   },
   "file_extension": ".py",
   "mimetype": "text/x-python",
   "name": "python",
   "nbconvert_exporter": "python",
   "pygments_lexer": "ipython2",
   "version": "2.7.10"
  }
 },
 "nbformat": 4,
 "nbformat_minor": 0
}
