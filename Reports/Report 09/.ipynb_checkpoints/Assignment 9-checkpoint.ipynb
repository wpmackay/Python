{
 "cells": [
  {
   "cell_type": "code",
   "execution_count": 1,
   "metadata": {
    "collapsed": false
   },
   "outputs": [
    {
     "name": "stdout",
     "output_type": "stream",
     "text": [
      "Using matplotlib backend: Qt4Agg\n",
      "Populating the interactive namespace from numpy and matplotlib\n"
     ]
    }
   ],
   "source": [
    "%pylab"
   ]
  },
  {
   "cell_type": "code",
   "execution_count": null,
   "metadata": {
    "collapsed": true
   },
   "outputs": [],
   "source": [
    "def stumbledown(f,p,stepsize,n=1000):\n",
    "    nfails=0\n",
    "    for i in xrange(n):\n",
    "        q=[2*stepsize*random.rand()-stepsize+p[0],stepsize*random.rand()-(stepsize/2)+p[1]]\n",
    "        if f(q)<f(p):\n",
    "            plot([p[0],q[0]],[p[1],q[1]],'b.-')\n",
    "            p=q\n",
    "            nfails=0\n",
    "        else: \n",
    "            plot([p[0],q[0]],[p[1],q[1]],'r-')\n",
    "            nfails+=1\n",
    "        if nfails>10:\n",
    "            nfails=0\n",
    "            stepsize=stepsize/2\n",
    "        if stepsize<(10**-9):\n",
    "            break      \n",
    "    return p,i"
   ]
  },
  {
   "cell_type": "code",
   "execution_count": null,
   "metadata": {
    "collapsed": false
   },
   "outputs": [],
   "source": [
    "def f(x):\n",
    "    return (x[0]-5)**2+(x[1]-3)**2+17\n",
    "\n",
    "p=[10,-7]\n",
    "stepsize=1.\n",
    "\n",
    "p,nsteps=stumbledown(f,p,stepsize)\n",
    "\n",
    "print p, nsteps"
   ]
  },
  {
   "cell_type": "code",
   "execution_count": null,
   "metadata": {
    "collapsed": false
   },
   "outputs": [],
   "source": [
    "#GPS System Simulation\n",
    "def GPS_f(xi,yi,d,X):\n",
    "    #x=X*ones((len(xi),2))\n",
    "    return sum((sqrt((X[0]-xi)**2+(X[1]-yi)**2)-d)**2)\n",
    "             \n",
    "def GPS(X):\n",
    "    xi=array([5.53,4.44,0.045,6.67])\n",
    "    yi=array([2.23,8.45,.381,5.62])\n",
    "    d=array([2.72,3.63,6.75,1.77])\n",
    "    return sum((sqrt((X[0]-xi)**2+(X[1]-yi)**2)-d)**2)"
   ]
  },
  {
   "cell_type": "code",
   "execution_count": null,
   "metadata": {
    "collapsed": false
   },
   "outputs": [],
   "source": [
    "figure(1)\n",
    "axis([0,10,0,10])\n",
    "for i in xrange(4):\n",
    "    circle1=Circle((xi[i],yi[i]),d[i],color='k',fill=False)\n",
    "    ax = gca()\n",
    "    gca().add_artist(circle1)"
   ]
  },
  {
   "cell_type": "code",
   "execution_count": null,
   "metadata": {
    "collapsed": false
   },
   "outputs": [],
   "source": [
    "xi=array([5.53,4.44,0.045,6.67])\n",
    "yi=array([2.23,8.45,.381,5.62])\n",
    "d=array([2.72,3.63,6.75,1.77])\n",
    "\n",
    "p=[3,3]\n",
    "stepsize=.5\n",
    "\n",
    "figure(2)\n",
    "position,iterations=stumbledown(GPS,p,stepsize,n=2000)\n",
    "for i in xrange(4):\n",
    "    circle1=Circle((xi[i],yi[i]),d[i],color='g',fill=False)\n",
    "    ax = gca()\n",
    "    gca().add_artist(circle1)\n",
    "\n",
    "print 'The position of the marker is:',position    "
   ]
  },
  {
   "cell_type": "code",
   "execution_count": 15,
   "metadata": {
    "collapsed": false
   },
   "outputs": [
    {
     "name": "stdout",
     "output_type": "stream",
     "text": [
      "The position of the marker is: [5.0606474060066295, 4.89199389891385]\n",
      "The stumbledown algorithm took 1294 steps to converge\n"
     ]
    }
   ],
   "source": [
    "%run \"report09.py\""
   ]
  },
  {
   "cell_type": "code",
   "execution_count": 11,
   "metadata": {
    "collapsed": false
   },
   "outputs": [
    {
     "name": "stdout",
     "output_type": "stream",
     "text": [
      "The position of the marker is: [505.7345784876279, 489.1905880314891]\n",
      "The stumbledown algorithm took 159 steps to converge\n"
     ]
    }
   ],
   "source": [
    "#Assignment 9- GPS System Simulation\n",
    "#William Mackay\n",
    "#MTH 337, Professor Adam Cunningham\n",
    "\n",
    "from pylab import *\n",
    "\n",
    "#\"Satellite\" Data in Meters\n",
    "xi=array([553,444,4.5,667])\n",
    "yi=array([223,845,38.1,562])\n",
    "d=array([272,363,675,177])\n",
    "\n",
    "def stumbledown(f,p,stepsize,n=1000):\n",
    "    nfails=0\n",
    "    for i in xrange(n):\n",
    "        q=[2*stepsize*rand()-stepsize+p[0],stepsize*rand()-(stepsize/2)+p[1]]\n",
    "        if f(q)<f(p):\n",
    "            plot([p[0],q[0]],[p[1],q[1]],'b.-')\n",
    "            p=q\n",
    "            nfails=0\n",
    "        else: \n",
    "            plot([p[0],q[0]],[p[1],q[1]],'r-')\n",
    "            nfails+=1\n",
    "        if nfails>10:\n",
    "            nfails=0\n",
    "            stepsize=stepsize/2\n",
    "        if stepsize<(10**-9):\n",
    "            return p,i      \n",
    "    \n",
    "\n",
    "def GPS(X):\n",
    "    xi=array([553,444,4.5,667])\n",
    "    yi=array([223,845,38.1,562])\n",
    "    d=array([272,363,675,177])\n",
    "    return sum((sqrt((X[0]-xi)**2+(X[1]-yi)**2)-d)**2)\n",
    "\n",
    "figure(1)\n",
    "axis([0,1000,0,1000])\n",
    "for i in xrange(4):\n",
    "    circle1=Circle((xi[i],yi[i]),d[i],color='k',fill=False)\n",
    "    ax = gca()\n",
    "    gca().add_artist(circle1)\n",
    "    plot(xi[i],yi[i],'ko')\n",
    "xlabel('x (m)')\n",
    "ylabel('y (m)')\n",
    "title('Satellite Positions')\n",
    "\n",
    "p=[300,300]\n",
    "stepsize=500\n",
    "\n",
    "figure(2)\n",
    "position,iterations=stumbledown(GPS,p,stepsize,n=2000)\n",
    "for i in xrange(4):\n",
    "    circle1=Circle((xi[i],yi[i]),d[i],color='g',fill=False)\n",
    "    ax = gca()\n",
    "    gca().add_artist(circle1)\n",
    "xlabel('x (m)')\n",
    "ylabel('y (m)')\n",
    "title('Stumbledown Algorithm')\n",
    "\n",
    "blue_line = Line2D([], [], color='blue', marker='.', label='Success')\n",
    "red_line = Line2D([], [], color='red', label='Failure')\n",
    "green_line = Line2D([], [], color='green', label='Satellite Circle')\n",
    "legend(handles=[blue_line,red_line,green_line],loc='upper left')\n",
    "\n",
    "\n",
    "print 'The position of the marker is:',position\n",
    "print 'The stumbledown algorithm took',iterations,'steps to converge'\n",
    "\n",
    "show()"
   ]
  },
  {
   "cell_type": "code",
   "execution_count": null,
   "metadata": {
    "collapsed": true
   },
   "outputs": [],
   "source": []
  }
 ],
 "metadata": {
  "kernelspec": {
   "display_name": "Python 2",
   "language": "python",
   "name": "python2"
  },
  "language_info": {
   "codemirror_mode": {
    "name": "ipython",
    "version": 2
   },
   "file_extension": ".py",
   "mimetype": "text/x-python",
   "name": "python",
   "nbconvert_exporter": "python",
   "pygments_lexer": "ipython2",
   "version": "2.7.10"
  }
 },
 "nbformat": 4,
 "nbformat_minor": 0
}
