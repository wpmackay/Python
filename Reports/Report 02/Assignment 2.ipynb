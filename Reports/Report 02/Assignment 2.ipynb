{
 "cells": [
  {
   "cell_type": "code",
   "execution_count": 2,
   "metadata": {
    "collapsed": false
   },
   "outputs": [
    {
     "name": "stdout",
     "output_type": "stream",
     "text": [
      "Using matplotlib backend: Qt4Agg\n",
      "Populating the interactive namespace from numpy and matplotlib\n"
     ]
    }
   ],
   "source": [
    "#Are there non-prime C-numbers?\n",
    "#     *C-number is an integer n such that n>1 and (b**n)%n=b for all integers 1<b<n\n",
    "%pylab\n",
    "\n",
    "def is_C_number(n):\n",
    "    b=range(1,n)\n",
    "    count=0\n",
    "    for i in xrange(0,n-1):\n",
    "        if pow(b[i],n,n)==b[i]:\n",
    "            count+=1\n",
    "    if count==n-1:\n",
    "        return True\n",
    "    else:\n",
    "        return False\n",
    "\n",
    "def is_prime(n):\n",
    "    for i in xrange(2,int(n**.5+1)):\n",
    "        if n%i==0:\n",
    "            return False\n",
    "    return True"
   ]
  },
  {
   "cell_type": "code",
   "execution_count": 4,
   "metadata": {
    "collapsed": false,
    "scrolled": true
   },
   "outputs": [
    {
     "name": "stdout",
     "output_type": "stream",
     "text": [
      "561\n",
      "Yes, there is at least one non-prime C-number.\n"
     ]
    }
   ],
   "source": [
    "non_prime_C_numbers=0\n",
    "for i in xrange(2,10000):\n",
    "    if is_prime(i)==True:\n",
    "        continue\n",
    "    else:\n",
    "        if is_C_number(i):\n",
    "            non_prime_C_numbers=1\n",
    "            print i\n",
    "        else:\n",
    "            continue\n",
    "    if non_prime_C_numbers==1:\n",
    "        print 'Yes, there is at least one non-prime C-number.'\n",
    "        break\n",
    "    "
   ]
  },
  {
   "cell_type": "code",
   "execution_count": 9,
   "metadata": {
    "collapsed": false
   },
   "outputs": [
    {
     "data": {
      "text/plain": [
       "True"
      ]
     },
     "execution_count": 9,
     "metadata": {},
     "output_type": "execute_result"
    }
   ],
   "source": [
    "is_C_number(561)"
   ]
  },
  {
   "cell_type": "code",
   "execution_count": 5,
   "metadata": {
    "collapsed": false
   },
   "outputs": [
    {
     "data": {
      "text/plain": [
       "False"
      ]
     },
     "execution_count": 5,
     "metadata": {},
     "output_type": "execute_result"
    }
   ],
   "source": [
    "is_prime(561)"
   ]
  },
  {
   "cell_type": "code",
   "execution_count": 6,
   "metadata": {
    "collapsed": false
   },
   "outputs": [
    {
     "name": "stdout",
     "output_type": "stream",
     "text": [
      "561\n",
      "Yes, there is at least one non-prime C-number.\n"
     ]
    }
   ],
   "source": [
    "%run \"report02.py\""
   ]
  },
  {
   "cell_type": "code",
   "execution_count": null,
   "metadata": {
    "collapsed": true
   },
   "outputs": [],
   "source": []
  }
 ],
 "metadata": {
  "kernelspec": {
   "display_name": "Python 2",
   "language": "python",
   "name": "python2"
  },
  "language_info": {
   "codemirror_mode": {
    "name": "ipython",
    "version": 2
   },
   "file_extension": ".py",
   "mimetype": "text/x-python",
   "name": "python",
   "nbconvert_exporter": "python",
   "pygments_lexer": "ipython2",
   "version": "2.7.10"
  }
 },
 "nbformat": 4,
 "nbformat_minor": 0
}
