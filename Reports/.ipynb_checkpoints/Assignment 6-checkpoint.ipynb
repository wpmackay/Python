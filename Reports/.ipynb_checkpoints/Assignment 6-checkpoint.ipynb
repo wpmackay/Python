{
 "cells": [
  {
   "cell_type": "code",
   "execution_count": 1,
   "metadata": {
    "collapsed": false
   },
   "outputs": [
    {
     "name": "stdout",
     "output_type": "stream",
     "text": [
      "Using matplotlib backend: Qt4Agg\n",
      "Populating the interactive namespace from numpy and matplotlib\n"
     ]
    }
   ],
   "source": [
    "#Planet orbiting star\n",
    "%pylab"
   ]
  },
  {
   "cell_type": "code",
   "execution_count": 2,
   "metadata": {
    "collapsed": true
   },
   "outputs": [],
   "source": [
    "#Define state P(x,y,v_x,v_y)\n",
    "\n",
    "def diff_P(P):\n",
    "    G=1.0\n",
    "    M=1.0\n",
    "    x,y,v_x,v_y=P\n",
    "    r3=(sqrt(x**2+y**2))**3\n",
    "    a_x=(-G*M*x)/r3\n",
    "    a_y=(-G*M*y)/r3\n",
    "    return array([v_x,v_y,a_x,a_y])"
   ]
  },
  {
   "cell_type": "code",
   "execution_count": 3,
   "metadata": {
    "collapsed": true
   },
   "outputs": [],
   "source": [
    "def plot_euler(steps,h,x=3.,y=0.,v_x=0., v_y=0.5): #x,y,v_x,v_y are default initial conditions\n",
    "    orbit=empty((steps,4))\n",
    "    P=array([x,y,v_x,v_y])\n",
    "    for i in xrange(steps):\n",
    "        orbit[i]=P\n",
    "        P+=h*diff_P(P)\n",
    "    plot(0,0,'yo',ms=6)\n",
    "    plot(orbit[:,0],orbit[:,1],'r')\n",
    "    \n"
   ]
  },
  {
   "cell_type": "code",
   "execution_count": null,
   "metadata": {
    "collapsed": false
   },
   "outputs": [],
   "source": [
    "plot_euler(5000,0.005)"
   ]
  },
  {
   "cell_type": "code",
   "execution_count": 11,
   "metadata": {
    "collapsed": true
   },
   "outputs": [],
   "source": [
    "#Heun's method\n",
    "def plot_heun(steps,h,x=3.,y=0.,v_x=0., v_y=0.5): #x,y,v_x,v_y are default initial conditions\n",
    "    orbit=empty((steps,4))\n",
    "    P=array([x,y,v_x,v_y])\n",
    "    for i in xrange(steps):\n",
    "        orbit[i]=P\n",
    "        P_tilde=P+h*diff_P(P)\n",
    "        P+=(h/2)*(diff_P(P)+diff_P(P_tilde))\n",
    "    return orbit"
   ]
  },
  {
   "cell_type": "code",
   "execution_count": 15,
   "metadata": {
    "collapsed": false
   },
   "outputs": [
    {
     "data": {
      "text/plain": [
       "array([[ 3.        ,  0.        ,  0.        ,  0.5       ],\n",
       "       [ 2.99944444,  0.05      , -0.0111088 ,  0.49990745],\n",
       "       [ 2.99777803,  0.09998148, -0.02221656,  0.49962967],\n",
       "       ..., \n",
       "       [ 1.00685895,  2.27810958, -0.6131544 ,  0.10275654],\n",
       "       [ 0.94521768,  2.28764804, -0.61952705,  0.08784705],\n",
       "       [ 0.88295334,  2.2956785 , -0.62560844,  0.07259582]])"
      ]
     },
     "execution_count": 15,
     "metadata": {},
     "output_type": "execute_result"
    }
   ],
   "source": [
    "plot_heun(1000,0.1)"
   ]
  },
  {
   "cell_type": "code",
   "execution_count": 21,
   "metadata": {
    "collapsed": false
   },
   "outputs": [
    {
     "data": {
      "text/plain": [
       "<matplotlib.animation.FuncAnimation at 0x91e9c10>"
      ]
     },
     "execution_count": 21,
     "metadata": {},
     "output_type": "execute_result"
    }
   ],
   "source": [
    "from matplotlib import animation\n",
    "h=.1\n",
    "steps=5000\n",
    "fig, ax=subplots(figsize=(6,6))\n",
    "ax.set_aspect('equal')\n",
    "ax.set_axis_bgcolor('k')\n",
    "point, =plot([],[], 'ro')\n",
    "line, =plot([],[],'cyan')\n",
    "sun=plot(0,0,'yo',ms=8)\n",
    "size=4\n",
    "xlim=(-size,size)\n",
    "ylim=(-size,size)\n",
    "orbit=plot_heun(steps, h)\n",
    "\n",
    "def init():\n",
    "    point.set_data([],[])\n",
    "    line.set_data([],[])\n",
    "    return line, point,\n",
    "\n",
    "def animate(i):\n",
    "    point.set_data(orbit[i,0],orbit[i,1])\n",
    "    line.set_data(orbit[:i,0],orbit[:i,1])\n",
    "    return line, point,\n",
    "\n",
    "animation.FuncAnimation(fig, animate, init_func=init, frames=steps, interval=20, blit=True, repeat=True)"
   ]
  },
  {
   "cell_type": "code",
   "execution_count": null,
   "metadata": {
    "collapsed": false
   },
   "outputs": [],
   "source": []
  },
  {
   "cell_type": "code",
   "execution_count": null,
   "metadata": {
    "collapsed": true
   },
   "outputs": [],
   "source": []
  }
 ],
 "metadata": {
  "kernelspec": {
   "display_name": "Python 2",
   "language": "python",
   "name": "python2"
  },
  "language_info": {
   "codemirror_mode": {
    "name": "ipython",
    "version": 2
   },
   "file_extension": ".py",
   "mimetype": "text/x-python",
   "name": "python",
   "nbconvert_exporter": "python",
   "pygments_lexer": "ipython2",
   "version": "2.7.10"
  }
 },
 "nbformat": 4,
 "nbformat_minor": 0
}
