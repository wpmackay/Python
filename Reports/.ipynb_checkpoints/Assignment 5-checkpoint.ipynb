{
 "cells": [
  {
   "cell_type": "code",
   "execution_count": 1,
   "metadata": {
    "collapsed": false
   },
   "outputs": [
    {
     "name": "stdout",
     "output_type": "stream",
     "text": [
      "Populating the interactive namespace from numpy and matplotlib\n"
     ]
    }
   ],
   "source": [
    "%pylab inline\n",
    "\n",
    "#Linear fit:\n",
    "#alpha=mean(y)-mean(x)*((mean(x*y)-mean(x)*mean(y))/(mean(x^2)-mean(x)^2))\n",
    "#beta=((mean(x*y)-mean(x)*mean(y))/(mean(x^2)-mean(x)^2))"
   ]
  },
  {
   "cell_type": "code",
   "execution_count": 3,
   "metadata": {
    "collapsed": false
   },
   "outputs": [
    {
     "data": {
      "text/plain": [
       "[<matplotlib.lines.Line2D at 0x5191d30>]"
      ]
     },
     "execution_count": 3,
     "metadata": {},
     "output_type": "execute_result"
    },
    {
     "data": {
      "image/png": "[encoded data removed]",
      "text/plain": [
       "<matplotlib.figure.Figure at 0x513eb70>"
      ]
     },
     "metadata": {},
     "output_type": "display_data"
    }
   ],
   "source": [
    "m=0.1\n",
    "n=.101\n",
    "b=1.5\n",
    "t_max=50\n",
    "t=linspace(0,t_max,t_max)\n",
    "s1=zeros(t_max)\n",
    "\n",
    "for i in xrange(t_max):\n",
    "    m=b*(1-m)*m\n",
    "    n=b*(1-n)*n\n",
    "    s1[i]=abs(m-n)\n",
    "\n",
    "semilogy(t,s1,'r.')"
   ]
  },
  {
   "cell_type": "code",
   "execution_count": 86,
   "metadata": {
    "collapsed": false
   },
   "outputs": [
    {
     "data": {
      "text/plain": [
       "[<matplotlib.lines.Line2D at 0x8c115d0>]"
      ]
     },
     "execution_count": 86,
     "metadata": {},
     "output_type": "execute_result"
    },
    {
     "data": {
      "image/png": "[encoded data removed]",
      "text/plain": [
       "<matplotlib.figure.Figure at 0x94a07d0>"
      ]
     },
     "metadata": {},
     "output_type": "display_data"
    }
   ],
   "source": [
    "m=0.1\n",
    "n=.10001\n",
    "b=4\n",
    "t_max=50\n",
    "t=linspace(0,t_max,t_max)\n",
    "s2=zeros(t_max)\n",
    "\n",
    "for i in xrange(t_max):\n",
    "    m=b*(1-m)*m\n",
    "    n=b*(1-n)*n\n",
    "    s2[i]=abs(m-n)\n",
    "\n",
    "semilogy(t,s2,'r.')"
   ]
  },
  {
   "cell_type": "code",
   "execution_count": 8,
   "metadata": {
    "collapsed": false
   },
   "outputs": [
    {
     "data": {
      "text/plain": [
       "[<matplotlib.lines.Line2D at 0x7e71790>]"
      ]
     },
     "execution_count": 8,
     "metadata": {},
     "output_type": "execute_result"
    },
    {
     "data": {
      "image/png": "[encoded data removed]",
      "text/plain": [
       "<matplotlib.figure.Figure at 0x78dccf0>"
      ]
     },
     "metadata": {},
     "output_type": "display_data"
    }
   ],
   "source": [
    "m=0.1\n",
    "n=.10001\n",
    "b=2.74\n",
    "t_max=50\n",
    "t=linspace(0,t_max,t_max)\n",
    "s3=zeros(t_max)\n",
    "\n",
    "for i in xrange(t_max):\n",
    "    m=b*(1-m)*m\n",
    "    n=b*(1-n)*n\n",
    "    s3[i]=abs(m-n)\n",
    "\n",
    "semilogy(t,s3,'r.')"
   ]
  },
  {
   "cell_type": "code",
   "execution_count": null,
   "metadata": {
    "collapsed": false
   },
   "outputs": [],
   "source": []
  },
  {
   "cell_type": "code",
   "execution_count": null,
   "metadata": {
    "collapsed": true
   },
   "outputs": [],
   "source": []
  }
 ],
 "metadata": {
  "kernelspec": {
   "display_name": "Python 2",
   "language": "python",
   "name": "python2"
  },
  "language_info": {
   "codemirror_mode": {
    "name": "ipython",
    "version": 2
   },
   "file_extension": ".py",
   "mimetype": "text/x-python",
   "name": "python",
   "nbconvert_exporter": "python",
   "pygments_lexer": "ipython2",
   "version": "2.7.10"
  }
 },
 "nbformat": 4,
 "nbformat_minor": 0
}
