{
 "cells": [
  {
   "cell_type": "code",
   "execution_count": 1,
   "metadata": {
    "collapsed": false
   },
   "outputs": [
    {
     "name": "stdout",
     "output_type": "stream",
     "text": [
      "Populating the interactive namespace from numpy and matplotlib\n"
     ]
    }
   ],
   "source": [
    "%pylab inline\n",
    "\n",
    "data=loadtxt(\"balloon_launch_Aug5.txt\", skiprows=138)"
   ]
  },
  {
   "cell_type": "code",
   "execution_count": 2,
   "metadata": {
    "collapsed": false
   },
   "outputs": [
    {
     "data": {
      "text/plain": [
       "array([[  0. ,   0. ,   0. , ...,  27.5,  70. ,  21.6],\n",
       "       [  0. ,   1. ,   4.1, ...,  27.4,  70. ,  21.5],\n",
       "       [  0. ,   2. ,   4.1, ...,  27.3,  69. ,  21.2],\n",
       "       ..., \n",
       "       [ 34. ,   8. ,   4.5, ..., -30. ,  56. , -36. ],\n",
       "       [ 34. ,   9. ,   4.5, ..., -30. ,  56. , -36. ],\n",
       "       [ 34. ,  10. ,   4.5, ..., -30.1,  56. , -36.1]])"
      ]
     },
     "execution_count": 2,
     "metadata": {},
     "output_type": "execute_result"
    }
   ],
   "source": [
    "data"
   ]
  },
  {
   "cell_type": "code",
   "execution_count": 3,
   "metadata": {
    "collapsed": false
   },
   "outputs": [
    {
     "name": "stdout",
     "output_type": "stream",
     "text": [
      "[  0.   0.   0. ...,  34.  34.  34.]\n"
     ]
    }
   ],
   "source": [
    "mins=data[:,0]\n",
    "print mins"
   ]
  },
  {
   "cell_type": "code",
   "execution_count": 5,
   "metadata": {
    "collapsed": false
   },
   "outputs": [
    {
     "name": "stdout",
     "output_type": "stream",
     "text": [
      "[  0.   1.   2. ...,   8.   9.  10.]\n"
     ]
    }
   ],
   "source": [
    "secs=data[:,1]\n",
    "print sec"
   ]
  },
  {
   "cell_type": "code",
   "execution_count": 6,
   "metadata": {
    "collapsed": false
   },
   "outputs": [
    {
     "name": "stdout",
     "output_type": "stream",
     "text": [
      "[ 27.5  27.4  27.3 ..., -30.  -30.  -30.1]\n"
     ]
    }
   ],
   "source": [
    "temp=data[:,5]\n",
    "print temp"
   ]
  },
  {
   "cell_type": "code",
   "execution_count": 10,
   "metadata": {
    "collapsed": false
   },
   "outputs": [
    {
     "name": "stdout",
     "output_type": "stream",
     "text": [
      "[  0.00000000e+00   1.66666667e-02   3.33333333e-02 ...,   3.41333333e+01\n",
      "   3.41500000e+01   3.41666667e+01]\n"
     ]
    }
   ],
   "source": [
    "t=mins+(secs/60)\n",
    "print t"
   ]
  },
  {
   "cell_type": "code",
   "execution_count": 14,
   "metadata": {
    "collapsed": false
   },
   "outputs": [
    {
     "data": {
      "text/plain": [
       "<matplotlib.text.Text at 0x5525bf0>"
      ]
     },
     "execution_count": 14,
     "metadata": {},
     "output_type": "execute_result"
    },
    {
     "data": {
      "image/png": "[encoded data removed]",
      "text/plain": [
       "<matplotlib.figure.Figure at 0x57866f0>"
      ]
     },
     "metadata": {},
     "output_type": "display_data"
    }
   ],
   "source": [
    "plot(t,temp,'b.')\n",
    "xlabel('Time (mins)')\n",
    "ylabel('Temperature (deg. C)')"
   ]
  },
  {
   "cell_type": "code",
   "execution_count": null,
   "metadata": {
    "collapsed": true
   },
   "outputs": [],
   "source": []
  }
 ],
 "metadata": {
  "kernelspec": {
   "display_name": "Python 2",
   "language": "python",
   "name": "python2"
  },
  "language_info": {
   "codemirror_mode": {
    "name": "ipython",
    "version": 2
   },
   "file_extension": ".py",
   "mimetype": "text/x-python",
   "name": "python",
   "nbconvert_exporter": "python",
   "pygments_lexer": "ipython2",
   "version": "2.7.10"
  }
 },
 "nbformat": 4,
 "nbformat_minor": 0
}
