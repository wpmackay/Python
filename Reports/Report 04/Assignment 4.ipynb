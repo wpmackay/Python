{
 "cells": [
  {
   "cell_type": "code",
   "execution_count": 48,
   "metadata": {
    "collapsed": false
   },
   "outputs": [
    {
     "name": "stdout",
     "output_type": "stream",
     "text": [
      "Using matplotlib backend: Qt4Agg\n",
      "Populating the interactive namespace from numpy and matplotlib\n"
     ]
    }
   ],
   "source": [
    "%pylab\n",
    "\n",
    "data=loadtxt(\"balloon.dat\", skiprows=138)"
   ]
  },
  {
   "cell_type": "code",
   "execution_count": 49,
   "metadata": {
    "collapsed": false
   },
   "outputs": [
    {
     "data": {
      "text/plain": [
       "array([[  0. ,   0. ,   0. , ...,  27.5,  70. ,  21.6],\n",
       "       [  0. ,   1. ,   4.1, ...,  27.4,  70. ,  21.5],\n",
       "       [  0. ,   2. ,   4.1, ...,  27.3,  69. ,  21.2],\n",
       "       ..., \n",
       "       [ 34. ,   8. ,   4.5, ..., -30. ,  56. , -36. ],\n",
       "       [ 34. ,   9. ,   4.5, ..., -30. ,  56. , -36. ],\n",
       "       [ 34. ,  10. ,   4.5, ..., -30.1,  56. , -36.1]])"
      ]
     },
     "execution_count": 49,
     "metadata": {},
     "output_type": "execute_result"
    }
   ],
   "source": [
    "data"
   ]
  },
  {
   "cell_type": "code",
   "execution_count": 50,
   "metadata": {
    "collapsed": false
   },
   "outputs": [
    {
     "name": "stdout",
     "output_type": "stream",
     "text": [
      "[  0.   0.   0. ...,  34.  34.  34.]\n"
     ]
    }
   ],
   "source": [
    "mins=data[:,0]\n",
    "print mins"
   ]
  },
  {
   "cell_type": "code",
   "execution_count": 51,
   "metadata": {
    "collapsed": false
   },
   "outputs": [
    {
     "name": "stdout",
     "output_type": "stream",
     "text": [
      "[  0.   1.   2. ...,   8.   9.  10.]\n"
     ]
    }
   ],
   "source": [
    "secs=data[:,1]\n",
    "print secs"
   ]
  },
  {
   "cell_type": "code",
   "execution_count": 52,
   "metadata": {
    "collapsed": false
   },
   "outputs": [
    {
     "name": "stdout",
     "output_type": "stream",
     "text": [
      "[ 27.5  27.4  27.3 ..., -30.  -30.  -30.1]\n"
     ]
    }
   ],
   "source": [
    "temp=data[:,5]\n",
    "print temp"
   ]
  },
  {
   "cell_type": "code",
   "execution_count": 53,
   "metadata": {
    "collapsed": false
   },
   "outputs": [
    {
     "name": "stdout",
     "output_type": "stream",
     "text": [
      "[  0.00000000e+00   1.66666667e-02   3.33333333e-02 ...,   3.41333333e+01\n",
      "   3.41500000e+01   3.41666667e+01]\n"
     ]
    }
   ],
   "source": [
    "t=mins+(secs/60)\n",
    "print t"
   ]
  },
  {
   "cell_type": "code",
   "execution_count": 54,
   "metadata": {
    "collapsed": false
   },
   "outputs": [
    {
     "data": {
      "text/plain": [
       "<matplotlib.text.Text at 0x5466e50>"
      ]
     },
     "execution_count": 54,
     "metadata": {},
     "output_type": "execute_result"
    }
   ],
   "source": [
    "plot(t,temp,'b.')\n",
    "xlabel('Time (mins)')\n",
    "ylabel('Temperature (deg. C)')\n",
    "title('Temperature vs. Time Measured by a Weather Balloon')"
   ]
  },
  {
   "cell_type": "code",
   "execution_count": 55,
   "metadata": {
    "collapsed": true
   },
   "outputs": [],
   "source": [
    "def find_epsilon():\n",
    "    n=0\n",
    "    while True:\n",
    "        x=2**(-n)\n",
    "        if 1+x!=1:\n",
    "            n+=1\n",
    "        else:\n",
    "            return 2**-(n-1)"
   ]
  },
  {
   "cell_type": "code",
   "execution_count": 56,
   "metadata": {
    "collapsed": false,
    "scrolled": true
   },
   "outputs": [
    {
     "name": "stdout",
     "output_type": "stream",
     "text": [
      "2.22044604925e-16\n"
     ]
    }
   ],
   "source": [
    "eps=find_epsilon()\n",
    "print eps"
   ]
  },
  {
   "cell_type": "code",
   "execution_count": 11,
   "metadata": {
    "collapsed": false
   },
   "outputs": [],
   "source": [
    "def max_float():\n",
    "    n=1.\n",
    "    x=2.\n",
    "    count=0\n",
    "    while True:\n",
    "        try: y=x**n\n",
    "        except: \n",
    "            return x**(n-0.0005)\n",
    "            break\n",
    "        n+=0.0005\n",
    "            \n",
    "def min_float():\n",
    "    n=1.\n",
    "    x=2.\n",
    "    while True:\n",
    "        y=x**n\n",
    "        #print '%e' % y\n",
    "        if y==x**(n+1):\n",
    "            return y\n",
    "        else:\n",
    "            n-=0.015"
   ]
  },
  {
   "cell_type": "code",
   "execution_count": 12,
   "metadata": {
    "collapsed": false
   },
   "outputs": [
    {
     "name": "stdout",
     "output_type": "stream",
     "text": [
      "The largest floating point nuber is approximately 1.797693109e+308\n"
     ]
    }
   ],
   "source": [
    "maxFloat=max_float()\n",
    "print 'The largest floating point nuber is approximately', maxFloat"
   ]
  },
  {
   "cell_type": "code",
   "execution_count": 47,
   "metadata": {
    "collapsed": false
   },
   "outputs": [
    {
     "name": "stdout",
     "output_type": "stream",
     "text": [
      "The smallest Floating Point Number is approximately 4.94065645841e-324\n"
     ]
    }
   ],
   "source": [
    "minFloat=min_float()\n",
    "print 'The smallest Floating Point Number is approximately', minFloat"
   ]
  },
  {
   "cell_type": "code",
   "execution_count": 14,
   "metadata": {
    "collapsed": false
   },
   "outputs": [
    {
     "name": "stdout",
     "output_type": "stream",
     "text": [
      "Machine epsilon is 2.22044604925e-16\n",
      "The smallest floating point number is 4.94065645841e-324\n",
      "The largest floating point number is 1.797693109e+308\n"
     ]
    }
   ],
   "source": [
    "%run \"report04.py\""
   ]
  },
  {
   "cell_type": "code",
   "execution_count": null,
   "metadata": {
    "collapsed": true
   },
   "outputs": [],
   "source": []
  }
 ],
 "metadata": {
  "kernelspec": {
   "display_name": "Python 2",
   "language": "python",
   "name": "python2"
  },
  "language_info": {
   "codemirror_mode": {
    "name": "ipython",
    "version": 2
   },
   "file_extension": ".py",
   "mimetype": "text/x-python",
   "name": "python",
   "nbconvert_exporter": "python",
   "pygments_lexer": "ipython2",
   "version": "2.7.10"
  }
 },
 "nbformat": 4,
 "nbformat_minor": 0
}
