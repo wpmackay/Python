{
 "cells": [
  {
   "cell_type": "code",
   "execution_count": 1,
   "metadata": {
    "collapsed": false
   },
   "outputs": [
    {
     "name": "stdout",
     "output_type": "stream",
     "text": [
      "Populating the interactive namespace from numpy and matplotlib\n"
     ]
    }
   ],
   "source": [
    "#Planet orbiting star\n",
    "%pylab inline"
   ]
  },
  {
   "cell_type": "code",
   "execution_count": 16,
   "metadata": {
    "collapsed": true
   },
   "outputs": [],
   "source": [
    "#Define state P(x,y,v_x,v_y)\n",
    "\n",
    "def diff_P(P):\n",
    "    G=1.0\n",
    "    M=1.0\n",
    "    x,y,v_x,v_y=P\n",
    "    r3=(sqrt(x**2+y**2))**3\n",
    "    a_x=(-G*M*x)/r3\n",
    "    a_y=(-G*M*y)/r3\n",
    "    return array([v_x,v_y,a_x,a_y])"
   ]
  },
  {
   "cell_type": "code",
   "execution_count": 17,
   "metadata": {
    "collapsed": true
   },
   "outputs": [],
   "source": [
    "def plot_euler(steps,h,x=3.,y=0.,v_x=0., v_y=0.5): #x,y,v_x,v_y are default initial conditions\n",
    "    orbit=empty((steps,4))\n",
    "    P=array([x,y,v_x,v_y])\n",
    "    for i in xrange(steps):\n",
    "        orbit[i]=P\n",
    "        P+=h*diff_P(P)\n",
    "    plot(0,0,'yo',ms=6)\n",
    "    plot(orbit[:,0],orbit[:,1],'r')\n",
    "    \n"
   ]
  },
  {
   "cell_type": "code",
   "execution_count": 27,
   "metadata": {
    "collapsed": false
   },
   "outputs": [
    {
     "data": {
      "image/png": "[encoded data removed]",
      "text/plain": [
       "<matplotlib.figure.Figure at 0x7989d90>"
      ]
     },
     "metadata": {},
     "output_type": "display_data"
    }
   ],
   "source": [
    "plot_euler(5000,0.005)"
   ]
  },
  {
   "cell_type": "code",
   "execution_count": 30,
   "metadata": {
    "collapsed": true
   },
   "outputs": [],
   "source": [
    "#Heun's method\n",
    "def plot_heun(steps,h,x=3.,y=0.,v_x=0., v_y=0.5): #x,y,v_x,v_y are default initial conditions\n",
    "    orbit=empty((steps,4))\n",
    "    P=array([x,y,v_x,v_y])\n",
    "    for i in xrange(steps):\n",
    "        orbit[i]=P\n",
    "        P_tilde=P+h*diff_P(P)\n",
    "        P+=(h/2)*(diff_P(P)+diff_P(P_tilde))\n",
    "    plot(0,0,'yo',ms=6)\n",
    "    plot(orbit[:,0],orbit[:,1],'r')"
   ]
  },
  {
   "cell_type": "code",
   "execution_count": 31,
   "metadata": {
    "collapsed": false
   },
   "outputs": [
    {
     "data": {
      "image/png": "[encoded data removed]",
      "text/plain": [
       "<matplotlib.figure.Figure at 0x581deb0>"
      ]
     },
     "metadata": {},
     "output_type": "display_data"
    }
   ],
   "source": [
    "plot_heun(1000,0.1)"
   ]
  },
  {
   "cell_type": "code",
   "execution_count": null,
   "metadata": {
    "collapsed": true
   },
   "outputs": [],
   "source": []
  }
 ],
 "metadata": {
  "kernelspec": {
   "display_name": "Python 2",
   "language": "python",
   "name": "python2"
  },
  "language_info": {
   "codemirror_mode": {
    "name": "ipython",
    "version": 2
   },
   "file_extension": ".py",
   "mimetype": "text/x-python",
   "name": "python",
   "nbconvert_exporter": "python",
   "pygments_lexer": "ipython2",
   "version": "2.7.10"
  }
 },
 "nbformat": 4,
 "nbformat_minor": 0
}
