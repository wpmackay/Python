{
 "cells": [
  {
   "cell_type": "code",
   "execution_count": 1,
   "metadata": {
    "collapsed": false
   },
   "outputs": [
    {
     "name": "stdout",
     "output_type": "stream",
     "text": [
      "Using matplotlib backend: Qt4Agg\n",
      "Populating the interactive namespace from numpy and matplotlib\n"
     ]
    }
   ],
   "source": [
    "#Planet orbiting star\n",
    "%pylab\n",
    "from matplotlib import animation"
   ]
  },
  {
   "cell_type": "code",
   "execution_count": 2,
   "metadata": {
    "collapsed": true
   },
   "outputs": [],
   "source": [
    "#Define state P(x,y,v_x,v_y)\n",
    "\n",
    "def diff_P(P):\n",
    "    G=1.0\n",
    "    M=1.0\n",
    "    x,y,v_x,v_y=P\n",
    "    r3=(sqrt(x**2+y**2))**3\n",
    "    a_x=(-G*M*x)/r3\n",
    "    a_y=(-G*M*y)/r3\n",
    "    return array([v_x,v_y,a_x,a_y])"
   ]
  },
  {
   "cell_type": "code",
   "execution_count": 3,
   "metadata": {
    "collapsed": true
   },
   "outputs": [],
   "source": [
    "def plot_euler(steps,h,x=3.,y=0.,v_x=0., v_y=0.5): #x,y,v_x,v_y are default initial conditions\n",
    "    orbit=empty((steps,4))\n",
    "    P=array([x,y,v_x,v_y])\n",
    "    for i in xrange(steps):\n",
    "        orbit[i]=P\n",
    "        P+=h*diff_P(P)\n",
    "    plot(0,0,'yo',ms=6)\n",
    "    plot(orbit[:,0],orbit[:,1],'r')\n",
    "    \n"
   ]
  },
  {
   "cell_type": "code",
   "execution_count": 4,
   "metadata": {
    "collapsed": true
   },
   "outputs": [],
   "source": [
    "#Heun's method\n",
    "def heun_orbit(steps,h,x=3.,y=0.,v_x=0., v_y=0.5): #x,y,v_x,v_y are default initial conditions\n",
    "    orbit=empty((steps,4))\n",
    "    P=array([x,y,v_x,v_y])\n",
    "    for i in xrange(steps):\n",
    "        orbit[i]=P\n",
    "        P_tilde=P+h*diff_P(P)\n",
    "        P+=(h/2)*(diff_P(P)+diff_P(P_tilde))\n",
    "    return orbit"
   ]
  },
  {
   "cell_type": "code",
   "execution_count": 10,
   "metadata": {
    "collapsed": false
   },
   "outputs": [
    {
     "data": {
      "text/plain": [
       "<matplotlib.animation.FuncAnimation at 0x8b1c4f0>"
      ]
     },
     "execution_count": 10,
     "metadata": {},
     "output_type": "execute_result"
    }
   ],
   "source": [
    "steps = 5000\n",
    "h = .1\n",
    "fig, ax = subplots(figsize=(6, 6))\n",
    "ax.set_aspect('equal')\n",
    "\n",
    "# \"point\" repesents the planet \n",
    "point, = plot([], [], 'ro')\n",
    "sun = plot(0, 0, 'yo', ms=8)\n",
    "\n",
    "# The size of the displayed area is fixed at the start, to avoid resizing during the animation\n",
    "size = 4\n",
    "xlim(-size, size)\n",
    "ylim(-size, size)\n",
    "\n",
    "# Calculate the complete orbit in advance.\n",
    "orbit = heun_orbit(steps, h)\n",
    "\n",
    "# Initialization function for the start of the animation\n",
    "def init():\n",
    "    point.set_data([], [])\n",
    "    return point,\n",
    "\n",
    "# Function to update the data for each frame of the animation\n",
    "def animate(i):\n",
    "    point.set_data(orbit[i, 0], orbit[i, 1])\n",
    "    return point,\n",
    "\n",
    "# This is called to generate and run the animation\n",
    "animation.FuncAnimation(fig, animate, init_func=init, frames=steps, interval=20, blit=True, repeat=True)"
   ]
  },
  {
   "cell_type": "code",
   "execution_count": 5,
   "metadata": {
    "collapsed": false
   },
   "outputs": [
    {
     "data": {
      "text/plain": [
       "<matplotlib.animation.FuncAnimation at 0x53b2f90>"
      ]
     },
     "execution_count": 5,
     "metadata": {},
     "output_type": "execute_result"
    }
   ],
   "source": [
    "steps = 5000\n",
    "h = .1\n",
    "fig, ax = subplots(figsize=(6, 6))\n",
    "ax.set_aspect('equal')\n",
    "ax.set_axis_bgcolor('k')\n",
    "point, = plot([], [], 'ro',ms=6)\n",
    "line, = plot([], [], 'cyan')\n",
    "sun = plot(0, 0, 'yo', ms=12)\n",
    "size = 4\n",
    "xlim(-size, size)\n",
    "ylim(-size, size)\n",
    "orbit = heun_orbit(steps, h)\n",
    "\n",
    "def init():\n",
    "    point.set_data([], [])\n",
    "    line.set_data([], [])\n",
    "    return line, point,\n",
    "\n",
    "def animate(i):\n",
    "    point.set_data(orbit[i, 0], orbit[i, 1])\n",
    "    line.set_data(orbit[:i, 0], orbit[:i, 1])\n",
    "    return line, point,\n",
    "\n",
    "animation.FuncAnimation(fig, animate, init_func=init, frames=steps, interval=10, blit=True, repeat=True)"
   ]
  },
  {
   "cell_type": "code",
   "execution_count": 7,
   "metadata": {
    "collapsed": false
   },
   "outputs": [],
   "source": [
    "def sun_position(R,t):\n",
    "    x1=R*cos(t)\n",
    "    x2=-x1\n",
    "    y1=R*sin(t)\n",
    "    y2=-y1\n",
    "    return x1,x2,y1,y2\n",
    "\n",
    "def diff_P_binary(P,t):\n",
    "    G=1.0\n",
    "    M=0.5\n",
    "    R=0.5\n",
    "    x,y,v_x,v_y=P\n",
    "    x1,x2,y1,y2=sun_position(R,t)\n",
    "    r31=(sqrt((x-x1)**2+(y-y1)**2))**3\n",
    "    r32=(sqrt((x-x2)**2+(y-y2)**2))**3\n",
    "    a_x=(-G*M*(x-x1))/r31+(-G*M*(x-x2))/r32\n",
    "    a_y=(-G*M*(y-y1))/r31+(-G*M*(y-y2))/r32\n",
    "    return array([v_x,v_y,a_x,a_y])\n",
    "\n",
    "def heun_orbit_binary(steps,h,x=2.25,y=0.,v_x=0., v_y=0.3): #x,y,v_x,v_y are default initial conditions\n",
    "    orbit=empty((steps,4))\n",
    "    P=array([x,y,v_x,v_y])\n",
    "    for i in xrange(steps):\n",
    "        orbit[i]=P\n",
    "        P_tilde=P+h*diff_P_binary(P,h*i)\n",
    "        P+=(h/2)*(diff_P_binary(P,h*i)+diff_P_binary(P_tilde,h*i))\n",
    "    return orbit"
   ]
  },
  {
   "cell_type": "code",
   "execution_count": 109,
   "metadata": {
    "collapsed": false
   },
   "outputs": [],
   "source": [
    "steps=5000\n",
    "h=0.1\n",
    "R=0.5\n",
    "\n",
    "orbit = heun_orbit_binary(steps, h,x=0.01 ,y=0.,v_x=0., v_y=.1)\n",
    "sun_orbit=empty((steps,4))\n",
    "for i in xrange(steps):\n",
    "    sun_orbit[i]=sun_position(R,h*i)"
   ]
  },
  {
   "cell_type": "code",
   "execution_count": 110,
   "metadata": {
    "collapsed": false,
    "scrolled": false
   },
   "outputs": [],
   "source": [
    "def plot_orbit(orbit):\n",
    "    plot(orbit[:, 0], orbit[:, 1])\n",
    "\n",
    "plot_orbit(orbit)"
   ]
  },
  {
   "cell_type": "code",
   "execution_count": 101,
   "metadata": {
    "collapsed": false
   },
   "outputs": [
    {
     "data": {
      "text/plain": [
       "<matplotlib.animation.FuncAnimation at 0x11458df0>"
      ]
     },
     "execution_count": 101,
     "metadata": {},
     "output_type": "execute_result"
    }
   ],
   "source": [
    "fig, ax = subplots(figsize=(6, 6))\n",
    "ax.set_aspect('equal')\n",
    "ax.set_axis_bgcolor('k')\n",
    "point, = plot([], [], 'ro',ms=6)\n",
    "line, = plot([], [], 'cyan')\n",
    "sun1_point, = plot([],[], 'yo', ms=12)\n",
    "sun1_line, = plot([], [], 'cyan')\n",
    "sun2_point, = plot([],[], 'yo', ms=12)\n",
    "sun2_line, = plot([], [], 'cyan')\n",
    "size = 4\n",
    "xlim(-size, size)\n",
    "ylim(-size, size)\n",
    "\n",
    "def init():\n",
    "    point.set_data([], [])\n",
    "    line.set_data([], [])\n",
    "    sun1_point.set_data([], [])\n",
    "    sun1_line.set_data([], [])\n",
    "    sun2_point.set_data([], [])\n",
    "    sun2_line.set_data([], [])\n",
    "    return line, point, sun1_point, sun1_line, sun2_point, sun2_line,\n",
    "\n",
    "def animate(i):\n",
    "    point.set_data(orbit[i, 0], orbit[i, 1])\n",
    "    line.set_data(orbit[:i, 0], orbit[:i, 1])\n",
    "    sun1_point.set_data(sun_orbit[i,0],sun_orbit[i,2])\n",
    "    sun1_line.set_data(sun_orbit[:i,0],sun_orbit[:i,2])\n",
    "    sun2_point.set_data(sun_orbit[i,1],sun_orbit[i,3])\n",
    "    sun2_line.set_data(sun_orbit[:i,1],sun_orbit[:i,3])\n",
    "    return line, point, sun1_point, sun1_line, sun2_point, sun2_line,\n",
    "\n",
    "animation.FuncAnimation(fig, animate, init_func=init, frames=steps, interval=10, blit=True, repeat=True)"
   ]
  },
  {
   "cell_type": "code",
   "execution_count": null,
   "metadata": {
    "collapsed": false
   },
   "outputs": [],
   "source": []
  },
  {
   "cell_type": "code",
   "execution_count": 129,
   "metadata": {
    "collapsed": false
   },
   "outputs": [],
   "source": [
    "%run \"report06.py\""
   ]
  },
  {
   "cell_type": "code",
   "execution_count": null,
   "metadata": {
    "collapsed": true
   },
   "outputs": [],
   "source": []
  }
 ],
 "metadata": {
  "kernelspec": {
   "display_name": "Python 2",
   "language": "python",
   "name": "python2"
  },
  "language_info": {
   "codemirror_mode": {
    "name": "ipython",
    "version": 2
   },
   "file_extension": ".py",
   "mimetype": "text/x-python",
   "name": "python",
   "nbconvert_exporter": "python",
   "pygments_lexer": "ipython2",
   "version": "2.7.10"
  }
 },
 "nbformat": 4,
 "nbformat_minor": 0
}
