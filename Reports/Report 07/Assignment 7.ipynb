{
 "cells": [
  {
   "cell_type": "code",
   "execution_count": 1,
   "metadata": {
    "collapsed": false
   },
   "outputs": [
    {
     "name": "stdout",
     "output_type": "stream",
     "text": [
      "Using matplotlib backend: Qt4Agg\n",
      "Populating the interactive namespace from numpy and matplotlib\n"
     ]
    }
   ],
   "source": [
    "%pylab"
   ]
  },
  {
   "cell_type": "code",
   "execution_count": 2,
   "metadata": {
    "collapsed": false
   },
   "outputs": [
    {
     "data": {
      "text/plain": [
       "<matplotlib.image.AxesImage at 0xaca2080>"
      ]
     },
     "execution_count": 2,
     "metadata": {},
     "output_type": "execute_result"
    }
   ],
   "source": [
    "npts = 100\n",
    "x = linspace(-1, 1, npts)\n",
    "y = linspace(-1j, 1j, npts)\n",
    "X, Y = meshgrid(x, y)\n",
    "Z = X + Y\n",
    "\n",
    "r1 = complex(1, 0)\n",
    "r2 = complex(-.5, sqrt(3)/2.)\n",
    "r3 = complex(-.5, -sqrt(3)/2.)\n",
    "tol = 1e-6\n",
    "\n",
    "count=zeros((npts,npts))\n",
    "niters = 20\n",
    "for i in xrange(niters):\n",
    "    Z -= (Z**3 - 1)/(3*Z**2)\n",
    "    for j in xrange(npts):\n",
    "        for k in xrange(npts):\n",
    "            if abs(Z[j,k] - r1) > tol and  abs(Z[j,k] - r2) > tol and  abs(Z[j,k] - r3) > tol:\n",
    "                count[j,k]+=1\n",
    "                \n",
    "count=count/amax(count)\n",
    "reds = abs(Z - r1) < tol\n",
    "greens = abs(Z - r2) < tol\n",
    "blues = abs(Z - r3) < tol\n",
    "img = zeros((npts, npts, 3))\n",
    "img[:,:,0] = reds*count\n",
    "img[:,:,1] = greens*count\n",
    "img[:,:,2] = blues*count\n",
    "imshow(img[::-1])"
   ]
  },
  {
   "cell_type": "code",
   "execution_count": null,
   "metadata": {
    "collapsed": false
   },
   "outputs": [],
   "source": [
    "%run \"report07.py\""
   ]
  },
  {
   "cell_type": "code",
   "execution_count": 3,
   "metadata": {
    "collapsed": false
   },
   "outputs": [
    {
     "data": {
      "text/plain": [
       "(100L, 100L)"
      ]
     },
     "execution_count": 3,
     "metadata": {},
     "output_type": "execute_result"
    }
   ],
   "source": [
    "shape(Z)"
   ]
  },
  {
   "cell_type": "code",
   "execution_count": null,
   "metadata": {
    "collapsed": true
   },
   "outputs": [],
   "source": []
  }
 ],
 "metadata": {
  "kernelspec": {
   "display_name": "Python 2",
   "language": "python",
   "name": "python2"
  },
  "language_info": {
   "codemirror_mode": {
    "name": "ipython",
    "version": 2
   },
   "file_extension": ".py",
   "mimetype": "text/x-python",
   "name": "python",
   "nbconvert_exporter": "python",
   "pygments_lexer": "ipython2",
   "version": "2.7.10"
  }
 },
 "nbformat": 4,
 "nbformat_minor": 0
}
