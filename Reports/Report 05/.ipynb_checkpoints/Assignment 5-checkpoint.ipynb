{
 "cells": [
  {
   "cell_type": "code",
   "execution_count": 1,
   "metadata": {
    "collapsed": false
   },
   "outputs": [
    {
     "name": "stdout",
     "output_type": "stream",
     "text": [
      "Using matplotlib backend: Qt4Agg\n",
      "Populating the interactive namespace from numpy and matplotlib\n"
     ]
    }
   ],
   "source": [
    "%pylab\n",
    "\n",
    "#Linear fit:\n",
    "#alpha=mean(y)-mean(x)*((mean(x*y)-mean(x)*mean(y))/(mean(x^2)-mean(x)^2))\n",
    "#beta=((mean(x*y)-mean(x)*mean(y))/(mean(x^2)-mean(x)^2))"
   ]
  },
  {
   "cell_type": "code",
   "execution_count": null,
   "metadata": {
    "collapsed": false
   },
   "outputs": [],
   "source": [
    "def linear_fit(x,y):\n",
    "    alpha=mean(y)-mean(x)*((mean(x*y)-mean(x)*mean(y))/(mean(x**2)-mean(x)**2))\n",
    "    beta=(mean(x*y)-mean(x)*mean(y))/(mean(x**2)-mean(x)**2)\n",
    "    coeffs=[alpha,beta]\n",
    "    return coeffs"
   ]
  },
  {
   "cell_type": "code",
   "execution_count": null,
   "metadata": {
    "collapsed": false
   },
   "outputs": [],
   "source": [
    "m=0.1\n",
    "n=.101\n",
    "b=1.5\n",
    "t_max=50\n",
    "t=linspace(0,t_max,t_max)\n",
    "s1=zeros(t_max)\n",
    "\n",
    "for i in xrange(t_max):\n",
    "    m=b*(1-m)*m\n",
    "    n=b*(1-n)*n\n",
    "    s1[i]=abs(m-n)\n",
    "\n",
    "semilogy(t,s1,'r.')\n",
    "coeffs1=linear_fit(t[9:40],log(s1[9:40]))\n",
    "print coeffs1\n",
    "bestfit1=coeffs1[1]*t+coeffs1[0]\n",
    "semilogy(t,exp(bestfit1))"
   ]
  },
  {
   "cell_type": "code",
   "execution_count": null,
   "metadata": {
    "collapsed": false
   },
   "outputs": [],
   "source": [
    "m=0.1\n",
    "n=.10001\n",
    "b=4\n",
    "t_max=50\n",
    "t=linspace(0,t_max,t_max)\n",
    "s2=zeros(t_max)\n",
    "\n",
    "for i in xrange(t_max):\n",
    "    m=b*(1-m)*m\n",
    "    n=b*(1-n)*n\n",
    "    s2[i]=abs(m-n)\n",
    "\n",
    "semilogy(t[0:20],s2[0:20],'r.')\n",
    "coeffs2=linear_fit(t[0:20],log(s2[0:20]))\n",
    "print coeffs2\n",
    "bestfit2=coeffs2[1]*t+coeffs2[0]\n",
    "semilogy(t[0:20],exp(bestfit2[0:20]))"
   ]
  },
  {
   "cell_type": "code",
   "execution_count": null,
   "metadata": {
    "collapsed": false
   },
   "outputs": [],
   "source": [
    "m=0.1\n",
    "n=.101\n",
    "b=2.74\n",
    "t_max=50\n",
    "t=linspace(0,t_max,t_max)\n",
    "s3=zeros(t_max)\n",
    "\n",
    "for i in xrange(t_max):\n",
    "    m=b*(1-m)*m\n",
    "    n=b*(1-n)*n\n",
    "    s3[i]=abs(m-n)\n",
    "\n",
    "semilogy(t,s3,'r.')\n",
    "coeffs3=linear_fit(t[5:40],log(s3[5:40]))\n",
    "print coeffs3\n",
    "bestfit3=coeffs3[1]*t+coeffs3[0]\n",
    "semilogy(t,exp(bestfit3))"
   ]
  },
  {
   "cell_type": "code",
   "execution_count": null,
   "metadata": {
    "collapsed": false
   },
   "outputs": [],
   "source": [
    "m=0.1\n",
    "n=.10001\n",
    "b=3.2\n",
    "t_max=50\n",
    "t=linspace(0,t_max,t_max)\n",
    "s4=zeros(t_max)\n",
    "\n",
    "for i in xrange(t_max):\n",
    "    m=b*(1-m)*m\n",
    "    n=b*(1-n)*n\n",
    "    s4[i]=abs(m-n)\n",
    "\n",
    "semilogy(t,s4,'r.')\n",
    "coeffs4=linear_fit(t[10:40],log(s4[10:40]))\n",
    "print coeffs4\n",
    "bestfit4=coeffs4[1]*t+coeffs4[0]\n",
    "semilogy(t,exp(bestfit4))"
   ]
  },
  {
   "cell_type": "code",
   "execution_count": 2,
   "metadata": {
    "collapsed": false
   },
   "outputs": [
    {
     "name": "stdout",
     "output_type": "stream",
     "text": [
      "[-3.7871963836691194, -0.67902045643463815]\n",
      "[-10.096284333123357, 0.53976407609003207]\n",
      "[-7.8271544536298618, -0.28266045262088263]\n",
      "[3.8057094015097945, -0.89595429685946426]\n"
     ]
    }
   ],
   "source": [
    "%run \"report05.py\""
   ]
  },
  {
   "cell_type": "code",
   "execution_count": null,
   "metadata": {
    "collapsed": false
   },
   "outputs": [],
   "source": []
  },
  {
   "cell_type": "code",
   "execution_count": null,
   "metadata": {
    "collapsed": true
   },
   "outputs": [],
   "source": []
  }
 ],
 "metadata": {
  "kernelspec": {
   "display_name": "Python 2",
   "language": "python",
   "name": "python2"
  },
  "language_info": {
   "codemirror_mode": {
    "name": "ipython",
    "version": 2
   },
   "file_extension": ".py",
   "mimetype": "text/x-python",
   "name": "python",
   "nbconvert_exporter": "python",
   "pygments_lexer": "ipython2",
   "version": "2.7.10"
  }
 },
 "nbformat": 4,
 "nbformat_minor": 0
}
