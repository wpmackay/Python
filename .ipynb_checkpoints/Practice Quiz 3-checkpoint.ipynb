{
 "cells": [
  {
   "cell_type": "code",
   "execution_count": 1,
   "metadata": {
    "collapsed": false
   },
   "outputs": [
    {
     "name": "stdout",
     "output_type": "stream",
     "text": [
      "10 20 25 35\n"
     ]
    }
   ],
   "source": [
    "for j in xrange(10, 40, 5):\n",
    "    if j % 3 != 0:\n",
    "        print j,\n",
    "        \n",
    "#Expected: 10 40 5 (X)\n",
    "#Remember how xrange works. The range goes between 10 and 40 by 5 (10,15,20,25,30,35)."
   ]
  },
  {
   "cell_type": "code",
   "execution_count": 3,
   "metadata": {
    "collapsed": false
   },
   "outputs": [
    {
     "name": "stdout",
     "output_type": "stream",
     "text": [
      "5\n"
     ]
    }
   ],
   "source": [
    "count = 0\n",
    "for char in \"MTH 337\":\n",
    "    if not char == '3':\n",
    "        count += 1\n",
    "print count\n",
    "\n",
    "#Expected: 5 (O)\n",
    "#Good, space counts as a character, so there are 5 non-3 characters in MTH 337"
   ]
  },
  {
   "cell_type": "code",
   "execution_count": 4,
   "metadata": {
    "collapsed": false
   },
   "outputs": [
    {
     "name": "stdout",
     "output_type": "stream",
     "text": [
      "True is False\n"
     ]
    }
   ],
   "source": [
    "true, false = False, True\n",
    "if not true:\n",
    "    print \"True is\", true\n",
    "else:\n",
    "    print \"False is\", false\n",
    "#Expected: True is False (O)"
   ]
  },
  {
   "cell_type": "code",
   "execution_count": 6,
   "metadata": {
    "collapsed": false
   },
   "outputs": [
    {
     "name": "stdout",
     "output_type": "stream",
     "text": [
      "1\n",
      "1\n",
      "13\n"
     ]
    }
   ],
   "source": [
    "for x in [1, 1, 2, 3, 5, 8, 13]:\n",
    "    if 1 < x < 13:\n",
    "        continue\n",
    "    else:\n",
    "        print x\n",
    "#Expected: \n",
    "# 1\n",
    "# 1\n",
    "# 13 (O)\n",
    "#Good"
   ]
  },
  {
   "cell_type": "code",
   "execution_count": 9,
   "metadata": {
    "collapsed": false
   },
   "outputs": [
    {
     "name": "stdout",
     "output_type": "stream",
     "text": [
      "False\n"
     ]
    }
   ],
   "source": [
    "found = False\n",
    "for n in xrange(40, 50):\n",
    "    if (n / 45) > 1:\n",
    "        found = True\n",
    "        break\n",
    "print found\n",
    "\n",
    "#Expected: True (X)\n",
    "#Remember that at least one of the numbers needs to be a float in order for division to be a floating point operation"
   ]
  },
  {
   "cell_type": "code",
   "execution_count": 10,
   "metadata": {
    "collapsed": false
   },
   "outputs": [
    {
     "data": {
      "text/plain": [
       "1"
      ]
     },
     "execution_count": 10,
     "metadata": {},
     "output_type": "execute_result"
    }
   ],
   "source": [
    "from pylab import *\n",
    "\n",
    "pow(6,8,5)\n",
    "#Good"
   ]
  },
  {
   "cell_type": "code",
   "execution_count": 15,
   "metadata": {
    "collapsed": false
   },
   "outputs": [
    {
     "data": {
      "text/plain": [
       "<matplotlib.text.Text at 0x22b30f0>"
      ]
     },
     "execution_count": 15,
     "metadata": {},
     "output_type": "execute_result"
    }
   ],
   "source": [
    "xlabel('x')\n",
    "#Good"
   ]
  },
  {
   "cell_type": "code",
   "execution_count": 16,
   "metadata": {
    "collapsed": true
   },
   "outputs": [],
   "source": [
    "#In large loops, xrange is more efficient because it does not generate a list."
   ]
  },
  {
   "cell_type": "code",
   "execution_count": 17,
   "metadata": {
    "collapsed": true
   },
   "outputs": [],
   "source": [
    "#Continue"
   ]
  },
  {
   "cell_type": "code",
   "execution_count": 21,
   "metadata": {
    "collapsed": false
   },
   "outputs": [
    {
     "data": {
      "text/plain": [
       "4"
      ]
     },
     "execution_count": 21,
     "metadata": {},
     "output_type": "execute_result"
    }
   ],
   "source": [
    "def count_sixes(numbers):\n",
    "    count=0\n",
    "    for char in numbers:\n",
    "        if char=='6':\n",
    "            count+=1\n",
    "        else:\n",
    "            continue\n",
    "    return count\n",
    "\n",
    "count_sixes('7677666')"
   ]
  },
  {
   "cell_type": "code",
   "execution_count": null,
   "metadata": {
    "collapsed": true
   },
   "outputs": [],
   "source": []
  }
 ],
 "metadata": {
  "kernelspec": {
   "display_name": "Python 2",
   "language": "python",
   "name": "python2"
  },
  "language_info": {
   "codemirror_mode": {
    "name": "ipython",
    "version": 2
   },
   "file_extension": ".py",
   "mimetype": "text/x-python",
   "name": "python",
   "nbconvert_exporter": "python",
   "pygments_lexer": "ipython2",
   "version": "2.7.10"
  }
 },
 "nbformat": 4,
 "nbformat_minor": 0
}
